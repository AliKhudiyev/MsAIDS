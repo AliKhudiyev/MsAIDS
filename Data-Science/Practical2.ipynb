{
 "cells": [
  {
   "cell_type": "code",
   "execution_count": 51,
   "metadata": {},
   "outputs": [],
   "source": [
    "from sklearn.datasets import load_boston, load_diabetes, fetch_california_housing\n",
    "from sklearn.preprocessing import StandardScaler\n",
    "from sklearn.model_selection import GridSearchCV, ShuffleSplit\n",
    "from sklearn.linear_model import Ridge, Lasso\n",
    "\n",
    "import numpy as np\n",
    "import matplotlib.pyplot as plt\n",
    "import pandas as pd"
   ]
  },
  {
   "cell_type": "code",
   "execution_count": null,
   "metadata": {},
   "outputs": [],
   "source": []
  },
  {
   "cell_type": "code",
   "execution_count": 61,
   "metadata": {},
   "outputs": [
    {
     "name": "stdout",
     "output_type": "stream",
     "text": [
      "0.03593813663804628\n"
     ]
    },
    {
     "data": {
      "image/png": "[encoded data removed]",
      "text/plain": [
       "<Figure size 432x288 with 1 Axes>"
      ]
     },
     "metadata": {
      "needs_background": "light"
     },
     "output_type": "display_data"
    }
   ],
   "source": [
    "X, y = load_boston(return_X_y=True)\n",
    "# model = Lasso()\n",
    "alphas = { 'alpha': np.logspace(-3, 4, 10) }\n",
    "# grid = GridSearchCV(model, alphas, scoring='neg_mean_absolute_error')\n",
    "ss = ShuffleSplit(n_splits=10)\n",
    "scaler = StandardScaler()\n",
    "mae_train = []\n",
    "mae_test = []\n",
    "\n",
    "def magic(X, y, normalize=True, model='ridge'):\n",
    "    for train_index, test_index, in ss.split(X):\n",
    "        X_train = X[train_index,:]\n",
    "        y_train = y[train_index]\n",
    "        X_test = X[test_index,:]\n",
    "        y_test = y[test_index]\n",
    "\n",
    "        if normalize:\n",
    "            scaler.fit(X_train)\n",
    "            X_train_norm = scaler.transform(X_train)\n",
    "            X_test_norm = scaler.transform(X_test)\n",
    "        else:\n",
    "            X_train_norm = X_train\n",
    "            X_test_norm = X_test\n",
    "\n",
    "        if model == 'ridge':\n",
    "            grid = GridSearchCV(Ridge(), alphas, scoring='neg_mean_absolute_error')\n",
    "            \n",
    "        elif model == 'lasso':\n",
    "            grid = GridSearchCV(Lasso(), alphas, scoring='neg_mean_absolute_error')\n",
    "        \n",
    "        grid.fit(X_train_norm, y_train)\n",
    "        y_predicted_train = grid.predict(X_train_norm)\n",
    "        y_predicted_test = grid.predict(X_test_norm)\n",
    "            \n",
    "        mae_train.append(np.mean([np.abs(y_train[i] - y_predicted_train[i]) for i in range(len(y_train))]))\n",
    "        mae_test.append(np.mean([np.abs(y_test[i] - y_predicted_test[i]) for i in range(len(y_test))]))\n",
    "\n",
    "    plt.plot(mae_train);\n",
    "    plt.plot(mae_test);\n",
    "    plt.legend(labels=['MAE on train', 'MAE on test']);\n",
    "\n",
    "    print(grid.best_estimator_.alpha)\n",
    "\n",
    "magic(X, y, model='lasso')"
   ]
  },
  {
   "cell_type": "code",
   "execution_count": 34,
   "metadata": {},
   "outputs": [
    {
     "data": {
      "text/html": [
       "<div>\n",
       "<style scoped>\n",
       "    .dataframe tbody tr th:only-of-type {\n",
       "        vertical-align: middle;\n",
       "    }\n",
       "\n",
       "    .dataframe tbody tr th {\n",
       "        vertical-align: top;\n",
       "    }\n",
       "\n",
       "    .dataframe thead th {\n",
       "        text-align: right;\n",
       "    }\n",
       "</style>\n",
       "<table border=\"1\" class=\"dataframe\">\n",
       "  <thead>\n",
       "    <tr style=\"text-align: right;\">\n",
       "      <th></th>\n",
       "      <th>age</th>\n",
       "      <th>sex</th>\n",
       "      <th>bmi</th>\n",
       "      <th>bp</th>\n",
       "      <th>s1</th>\n",
       "      <th>s2</th>\n",
       "      <th>s3</th>\n",
       "      <th>s4</th>\n",
       "      <th>s5</th>\n",
       "      <th>s6</th>\n",
       "    </tr>\n",
       "  </thead>\n",
       "  <tbody>\n",
       "    <tr>\n",
       "      <th>0</th>\n",
       "      <td>0.038076</td>\n",
       "      <td>0.050680</td>\n",
       "      <td>0.061696</td>\n",
       "      <td>0.021872</td>\n",
       "      <td>-0.044223</td>\n",
       "      <td>-0.034821</td>\n",
       "      <td>-0.043401</td>\n",
       "      <td>-0.002592</td>\n",
       "      <td>0.019908</td>\n",
       "      <td>-0.017646</td>\n",
       "    </tr>\n",
       "    <tr>\n",
       "      <th>1</th>\n",
       "      <td>-0.001882</td>\n",
       "      <td>-0.044642</td>\n",
       "      <td>-0.051474</td>\n",
       "      <td>-0.026328</td>\n",
       "      <td>-0.008449</td>\n",
       "      <td>-0.019163</td>\n",
       "      <td>0.074412</td>\n",
       "      <td>-0.039493</td>\n",
       "      <td>-0.068330</td>\n",
       "      <td>-0.092204</td>\n",
       "    </tr>\n",
       "    <tr>\n",
       "      <th>2</th>\n",
       "      <td>0.085299</td>\n",
       "      <td>0.050680</td>\n",
       "      <td>0.044451</td>\n",
       "      <td>-0.005671</td>\n",
       "      <td>-0.045599</td>\n",
       "      <td>-0.034194</td>\n",
       "      <td>-0.032356</td>\n",
       "      <td>-0.002592</td>\n",
       "      <td>0.002864</td>\n",
       "      <td>-0.025930</td>\n",
       "    </tr>\n",
       "    <tr>\n",
       "      <th>3</th>\n",
       "      <td>-0.089063</td>\n",
       "      <td>-0.044642</td>\n",
       "      <td>-0.011595</td>\n",
       "      <td>-0.036656</td>\n",
       "      <td>0.012191</td>\n",
       "      <td>0.024991</td>\n",
       "      <td>-0.036038</td>\n",
       "      <td>0.034309</td>\n",
       "      <td>0.022692</td>\n",
       "      <td>-0.009362</td>\n",
       "    </tr>\n",
       "    <tr>\n",
       "      <th>4</th>\n",
       "      <td>0.005383</td>\n",
       "      <td>-0.044642</td>\n",
       "      <td>-0.036385</td>\n",
       "      <td>0.021872</td>\n",
       "      <td>0.003935</td>\n",
       "      <td>0.015596</td>\n",
       "      <td>0.008142</td>\n",
       "      <td>-0.002592</td>\n",
       "      <td>-0.031991</td>\n",
       "      <td>-0.046641</td>\n",
       "    </tr>\n",
       "  </tbody>\n",
       "</table>\n",
       "</div>"
      ],
      "text/plain": [
       "        age       sex       bmi        bp        s1        s2        s3  \\\n",
       "0  0.038076  0.050680  0.061696  0.021872 -0.044223 -0.034821 -0.043401   \n",
       "1 -0.001882 -0.044642 -0.051474 -0.026328 -0.008449 -0.019163  0.074412   \n",
       "2  0.085299  0.050680  0.044451 -0.005671 -0.045599 -0.034194 -0.032356   \n",
       "3 -0.089063 -0.044642 -0.011595 -0.036656  0.012191  0.024991 -0.036038   \n",
       "4  0.005383 -0.044642 -0.036385  0.021872  0.003935  0.015596  0.008142   \n",
       "\n",
       "         s4        s5        s6  \n",
       "0 -0.002592  0.019908 -0.017646  \n",
       "1 -0.039493 -0.068330 -0.092204  \n",
       "2 -0.002592  0.002864 -0.025930  \n",
       "3  0.034309  0.022692 -0.009362  \n",
       "4 -0.002592 -0.031991 -0.046641  "
      ]
     },
     "execution_count": 34,
     "metadata": {},
     "output_type": "execute_result"
    }
   ],
   "source": [
    "diabetes_data = load_diabetes()\n",
    "housing_data = fetch_california_housing()\n",
    "\n",
    "diabetes_df = pd.DataFrame(diabetes_data.data)\n",
    "housing_df = pd.DataFrame(housing_data.data)\n",
    "\n",
    "diabetes_df.columns = diabetes_data.feature_names\n",
    "housing_df.columns = housing_data.feature_names\n",
    "\n",
    "diabetes_df.head()"
   ]
  },
  {
   "cell_type": "code",
   "execution_count": 67,
   "metadata": {},
   "outputs": [
    {
     "name": "stdout",
     "output_type": "stream",
     "text": [
      "[-3.63428493e-16  1.30834257e-16 -8.04534920e-16  1.28165452e-16\n",
      " -8.83531559e-17  1.32702421e-16 -4.57464634e-16  3.77730150e-16\n",
      " -3.83085422e-16 -3.41288202e-16] [0.04756515 0.04756515 0.04756515 0.04756515 0.04756515 0.04756515\n",
      " 0.04756515 0.04756515 0.04756515 0.04756515]\n"
     ]
    }
   ],
   "source": [
    "X, y = load_diabetes(return_X_y=True)\n",
    "meanX = np.mean(X, 0)\n",
    "stdX = np.std(X, 0)\n",
    "print(meanX, stdX)"
   ]
  },
  {
   "cell_type": "code",
   "execution_count": 70,
   "metadata": {},
   "outputs": [
    {
     "name": "stdout",
     "output_type": "stream",
     "text": [
      "0.001\n"
     ]
    },
    {
     "data": {
      "image/png": "[encoded data removed]",
      "text/plain": [
       "<Figure size 432x288 with 1 Axes>"
      ]
     },
     "metadata": {
      "needs_background": "light"
     },
     "output_type": "display_data"
    }
   ],
   "source": [
    "magic(X, y, normalize=False, model='ridge')"
   ]
  },
  {
   "cell_type": "code",
   "execution_count": 62,
   "metadata": {},
   "outputs": [
    {
     "name": "stdout",
     "output_type": "stream",
     "text": [
      "[ 3.87067100e+00  2.86394864e+01  5.42899974e+00  1.09667515e+00\n",
      "  1.42547674e+03  3.07065516e+00  3.56318614e+01 -1.19569704e+02] [1.89977569e+00 1.25852527e+01 2.47411320e+00 4.73899376e-01\n",
      " 1.13243469e+03 1.03857980e+01 2.13590065e+00 2.00348319e+00]\n"
     ]
    }
   ],
   "source": [
    "X, y = fetch_california_housing(return_X_y=True)\n",
    "meanX = np.mean(X, 0)\n",
    "stdX = np.std(X, 0)\n",
    "print(meanX, stdX)"
   ]
  },
  {
   "cell_type": "code",
   "execution_count": 66,
   "metadata": {},
   "outputs": [
    {
     "name": "stdout",
     "output_type": "stream",
     "text": [
      "0.001\n"
     ]
    },
    {
     "data": {
      "image/png": "[encoded data removed]",
      "text/plain": [
       "<Figure size 432x288 with 1 Axes>"
      ]
     },
     "metadata": {
      "needs_background": "light"
     },
     "output_type": "display_data"
    }
   ],
   "source": [
    "magic(X, y, normalize=False, model='lasso')"
   ]
  }
 ],
 "metadata": {
  "kernelspec": {
   "display_name": "Python 3",
   "language": "python",
   "name": "python3"
  },
  "language_info": {
   "codemirror_mode": {
    "name": "ipython",
    "version": 3
   },
   "file_extension": ".py",
   "mimetype": "text/x-python",
   "name": "python",
   "nbconvert_exporter": "python",
   "pygments_lexer": "ipython3",
   "version": "3.8.3"
  }
 },
 "nbformat": 4,
 "nbformat_minor": 4
}
