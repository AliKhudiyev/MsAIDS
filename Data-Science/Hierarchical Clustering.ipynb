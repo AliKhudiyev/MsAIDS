{
 "cells": [
  {
   "cell_type": "code",
   "execution_count": 85,
   "metadata": {},
   "outputs": [],
   "source": [
    "import numpy as np\n",
    "\n",
    "class Point:\n",
    "    def __init__(self, coords):\n",
    "        self.coords = coords\n",
    "\n",
    "def dist(p1, p2, p):\n",
    "    d = 0\n",
    "    for i in range(len(p1.coords)):\n",
    "        d += np.abs(p1.coords[i]-p2.coords[i])**p\n",
    "    return d**(1/p)\n",
    "\n",
    "def tell_mean(group):\n",
    "    if len(group) == 1:\n",
    "        return group[0].coords[0], group[0].coords[1]\n",
    "    mean_x, mean_y = 0, 0\n",
    "    for elem in group:\n",
    "        x, y = tell_mean(elem)\n",
    "        mean_x += x/len(group)\n",
    "        mean_y += y/len(group)\n",
    "    return mean_x, mean_y\n",
    "\n",
    "def tell_dist(g1, g2, p=2):\n",
    "    x, y = tell_mean(g1)\n",
    "    p1 = Point([x,y])\n",
    "    x, y = tell_mean(g2)\n",
    "    p2 = Point([x,y])\n",
    "    return dist(p1, p2, p)\n",
    "\n",
    "def get_matrix(group):\n",
    "    count = len(group)\n",
    "    M = np.zeros(shape=(count, count))\n",
    "    for i in range(count):\n",
    "        for j in range(count):\n",
    "            M[i][j] = tell_dist(group[i], group[j])\n",
    "    return M\n",
    "\n",
    "def min_index(M):\n",
    "    count = M.shape[0]\n",
    "    min_val = 1000\n",
    "    x, y = 0, 0\n",
    "    for i in range(count):\n",
    "        for j in range(count):\n",
    "            if i!=j and min_val > M[i][j]:\n",
    "                min_val = M[i][j]\n",
    "                x, y = i, j\n",
    "    return x, y\n",
    "\n",
    "def make_group(group, M):\n",
    "    i, j = min_index(M)\n",
    "    Group = [[group[i], group[j]]]\n",
    "    for k in range(len(group)):\n",
    "        if k != i and k != j:\n",
    "            Group.append(group[k])\n",
    "    Mat = get_matrix(Group)\n",
    "    return Group, Mat\n",
    "\n",
    "def print_group(group):\n",
    "    if len(group) == 1:\n",
    "        print(group[0].coords, end='')\n",
    "    else:\n",
    "        print('[', end='')\n",
    "        for i, elem in enumerate(group):\n",
    "            print_group(elem)\n",
    "            if i + 1 < len(group):\n",
    "                print(',', end='')\n",
    "        print(']', end='')\n",
    "\n",
    "def cluster(group):\n",
    "    Group = group\n",
    "    M = get_matrix(Group)\n",
    "    while len(Group) > 1:\n",
    "        Group, M = make_group(Group, M)\n",
    "    return Group"
   ]
  },
  {
   "cell_type": "code",
   "execution_count": 87,
   "metadata": {},
   "outputs": [
    {
     "name": "stdout",
     "output_type": "stream",
     "text": [
      "[[0, 0],[1, 0],[4, 0],[9, 0],[16, 0],[25, 0],[36, 0],[49, 0],[64, 0],[81, 0]]\n",
      "[[[[[16, 0],[25, 0]],[[[[0, 0],[1, 0]],[4, 0]],[9, 0]]],[[36, 0],[49, 0]]],[[64, 0],[81, 0]]]"
     ]
    }
   ],
   "source": [
    "group = [[Point([i**2,0])] for i in range(10)]\n",
    "print_group(group)\n",
    "print()\n",
    "\n",
    "Group = cluster(group)\n",
    "print_group(Group[0])"
   ]
  }
 ],
 "metadata": {
  "kernelspec": {
   "display_name": "Python 3",
   "language": "python",
   "name": "python3"
  },
  "language_info": {
   "codemirror_mode": {
    "name": "ipython",
    "version": 3
   },
   "file_extension": ".py",
   "mimetype": "text/x-python",
   "name": "python",
   "nbconvert_exporter": "python",
   "pygments_lexer": "ipython3",
   "version": "3.8.3"
  }
 },
 "nbformat": 4,
 "nbformat_minor": 4
}
