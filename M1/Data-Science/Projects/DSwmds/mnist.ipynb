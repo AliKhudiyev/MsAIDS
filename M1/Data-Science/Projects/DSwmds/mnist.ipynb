{
 "cells": [
  {
   "cell_type": "code",
   "execution_count": 1,
   "metadata": {},
   "outputs": [],
   "source": [
    "import matplotlib.pyplot as plt\n",
    "import numpy as np\n",
    "import seaborn as sns\n",
    "from tensorflow.keras.datasets import mnist"
   ]
  },
  {
   "cell_type": "code",
   "execution_count": 2,
   "metadata": {},
   "outputs": [
    {
     "name": "stdout",
     "output_type": "stream",
     "text": [
      "(60000, 28, 28) (10000, 28, 28)\n"
     ]
    }
   ],
   "source": [
    "# Loading the data from keras\n",
    "(X_train, y_train), (X_test, y_test) = mnist.load_data()\n",
    "print(X_train.shape, X_test.shape)"
   ]
  },
  {
   "cell_type": "code",
   "execution_count": 3,
   "metadata": {},
   "outputs": [
    {
     "name": "stdout",
     "output_type": "stream",
     "text": [
      "5\n"
     ]
    },
    {
     "data": {
      "image/png": "[encoded data removed]",
      "text/plain": [
       "<Figure size 432x288 with 1 Axes>"
      ]
     },
     "metadata": {
      "needs_background": "light"
     },
     "output_type": "display_data"
    }
   ],
   "source": [
    "plt.imshow(X_train[0], 'gray');\n",
    "print(y_train[0])"
   ]
  },
  {
   "cell_type": "code",
   "execution_count": 41,
   "metadata": {},
   "outputs": [],
   "source": [
    "from tensorflow.keras.utils import to_categorical\n",
    "\n",
    "# Reshape the data for CNN\n",
    "# The images are gray level, so one channel is enough to represent the picture as it is\n",
    "X_train = np.reshape(X_train, (X_train.shape[0], 28, 28, 1))\n",
    "X_test = np.reshape(X_test, (X_test.shape[0], 28, 28, 1))\n",
    "\n",
    "# Transforming the labels (with one hot encoding)\n",
    "y_train = to_categorical(y_train)\n",
    "y_test = to_categorical(y_test)"
   ]
  },
  {
   "cell_type": "code",
   "execution_count": 42,
   "metadata": {},
   "outputs": [],
   "source": [
    "# Normalizing the pixels\n",
    "X_train = X_train.astype('float32')\n",
    "X_test = X_test.astype('float32')\n",
    "X_train /= 255\n",
    "X_test /= 255"
   ]
  },
  {
   "cell_type": "markdown",
   "metadata": {},
   "source": [
    "---\n",
    "# CNN Model\n",
    "\n",
    "CNNs are good at working with high dimensional data such as images. So, I am going to use it for this data set to classify the numbers between 0 and 9."
   ]
  },
  {
   "cell_type": "code",
   "execution_count": 15,
   "metadata": {},
   "outputs": [],
   "source": [
    "import tensorflow as tf\n",
    "from tensorflow.keras.datasets import mnist\n",
    "from tensorflow.keras.models import Sequential\n",
    "from tensorflow.keras.layers import Conv2D, MaxPool2D, Flatten, Dense, Dropout\n",
    "from sklearn.metrics import confusion_matrix"
   ]
  },
  {
   "cell_type": "code",
   "execution_count": 16,
   "metadata": {},
   "outputs": [
    {
     "name": "stdout",
     "output_type": "stream",
     "text": [
      "Model: \"mnist_classifier\"\n",
      "_________________________________________________________________\n",
      "Layer (type)                 Output Shape              Param #   \n",
      "=================================================================\n",
      "conv2d_1 (Conv2D)            (None, 24, 24, 32)        832       \n",
      "_________________________________________________________________\n",
      "max_pooling2d_1 (MaxPooling2 (None, 12, 12, 32)        0         \n",
      "_________________________________________________________________\n",
      "flatten_1 (Flatten)          (None, 4608)              0         \n",
      "_________________________________________________________________\n",
      "dense_2 (Dense)              (None, 70)                322630    \n",
      "_________________________________________________________________\n",
      "dense_3 (Dense)              (None, 10)                710       \n",
      "=================================================================\n",
      "Total params: 324,172\n",
      "Trainable params: 324,172\n",
      "Non-trainable params: 0\n",
      "_________________________________________________________________\n"
     ]
    }
   ],
   "source": [
    "conv = Conv2D(32, kernel_size=(5,5), activation='relu', kernel_initializer='he_uniform', input_shape=(28,28,1))\n",
    "\n",
    "# Creating a sequential model\n",
    "model = Sequential(name='mnist_classifier')\n",
    "\n",
    "# Adding conv2d layer with the 5x5 kernel\n",
    "model.add(conv)\n",
    "# Adding max pooling layer to decrease the number parameters\n",
    "model.add(MaxPool2D(pool_size=(2,2)))\n",
    "# Flattening the output of CNN\n",
    "model.add(Flatten())\n",
    "# A regular dense layer with 70 nodes\n",
    "model.add(Dense(70, activation='relu', kernel_initializer='he_uniform'))\n",
    "# Ouput layer with 10 nodes (since it is going to return one hot encoded version of the real label)\n",
    "model.add(Dense(10, activation='softmax'))\n",
    "\n",
    "model.compile(optimizer='adam', loss='categorical_crossentropy', metrics=['accuracy'])\n",
    "model.summary()"
   ]
  },
  {
   "cell_type": "code",
   "execution_count": 17,
   "metadata": {},
   "outputs": [
    {
     "name": "stdout",
     "output_type": "stream",
     "text": [
      "Epoch 1/5\n",
      "3750/3750 [==============================] - 14s 4ms/step - loss: 0.1244 - accuracy: 0.9624\n",
      "Epoch 2/5\n",
      "3750/3750 [==============================] - 14s 4ms/step - loss: 0.0460 - accuracy: 0.9855\n",
      "Epoch 3/5\n",
      "3750/3750 [==============================] - 13s 4ms/step - loss: 0.0286 - accuracy: 0.9908\n",
      "Epoch 4/5\n",
      "3750/3750 [==============================] - 14s 4ms/step - loss: 0.0191 - accuracy: 0.9937\n",
      "Epoch 5/5\n",
      "3750/3750 [==============================] - 14s 4ms/step - loss: 0.0131 - accuracy: 0.9956\n"
     ]
    }
   ],
   "source": [
    "history = model.fit(X_train, y_train, epochs=5, batch_size=16)"
   ]
  },
  {
   "cell_type": "code",
   "execution_count": 49,
   "metadata": {},
   "outputs": [
    {
     "name": "stdout",
     "output_type": "stream",
     "text": [
      "Accuracy: 0.9876999855041504\n",
      "[[ 979    0    0    1    0    0    0    0    0    0]\n",
      " [   0 1135    0    0    0    0    0    0    0    0]\n",
      " [   3    1 1017    0    0    0    2    5    3    1]\n",
      " [   0    0    0  993    0   13    0    1    3    0]\n",
      " [   0    0    0    0  968    0    5    0    0    9]\n",
      " [   1    0    0    2    0  888    1    0    0    0]\n",
      " [   7    1    0    0    2    4  940    0    4    0]\n",
      " [   0    1    7    1    0    1    0 1015    1    2]\n",
      " [   4    0    1    0    0    0    0    1  966    2]\n",
      " [   2    3    0    3    5   11    0    7    2  976]]\n"
     ]
    }
   ],
   "source": [
    "_, acc = model.evaluate(X_test, y_test, verbose=0)\n",
    "print('Accuracy:', acc)\n",
    "y_pred = model.predict(X_test)\n",
    "y_pred = list(y_pred)\n",
    "y_pred = [list(y).index(max(y)) for y in y_pred]\n",
    "y_test_original = list(y_test)\n",
    "y_test_original = [list(y).index(1.0) for y in y_test_original]\n",
    "print(confusion_matrix(y_true=y_test_original, y_pred=y_pred))"
   ]
  },
  {
   "cell_type": "markdown",
   "metadata": {},
   "source": [
    "---\n",
    "# SVM classifier\n",
    "\n",
    "Given all the pixels SVC should predict the category of the image."
   ]
  },
  {
   "cell_type": "code",
   "execution_count": 50,
   "metadata": {},
   "outputs": [
    {
     "name": "stdout",
     "output_type": "stream",
     "text": [
      "Train data shape: (10000, 784)\n",
      "Test data shape: (10000, 784)\n",
      "Accuracy: 0.917\n",
      "[[ 954    0    7    1    0    6    8    2    1    1]\n",
      " [   0 1121    1    2    0    2    3    1    5    0]\n",
      " [   8   11  930   13   11    4   13   11   29    2]\n",
      " [   3    2   28  914    2   20    2   10   21    8]\n",
      " [   2    1   12    0  927    0    6    6    2   26]\n",
      " [  12    6    6   60    7  754   15    1   26    5]\n",
      " [  12    3   12    1    9   12  906    0    2    1]\n",
      " [   3    8   24   15    9    0    0  943    5   21]\n",
      " [   7   18   10   31    9   32   11    6  840   10]\n",
      " [   8    8    1   15   46    6    1   37    6  881]]\n"
     ]
    }
   ],
   "source": [
    "from sklearn.svm import SVC\n",
    "\n",
    "# Loading the data\n",
    "(X_train, y_train), (X_test, y_test) = mnist.load_data()\n",
    "\n",
    "X_train, y_train = X_train[:10000], y_train[:10000]\n",
    "\n",
    "# Converting 28x28 2D array into 1D array of 784 elements(pixels)\n",
    "X_train = np.reshape(X_train, (X_train.shape[0], X_train.shape[1] * X_train.shape[2]))\n",
    "X_test = np.reshape(X_test, (X_test.shape[0], X_test.shape[1] * X_test.shape[2]))\n",
    "\n",
    "# Changing the data type\n",
    "X_train = X_train.astype('float32')\n",
    "X_test = X_test.astype('float32')\n",
    "\n",
    "# Normalizing the data\n",
    "X_train /= 255\n",
    "X_test /= 255\n",
    "\n",
    "print('Train data shape:', X_train.shape)\n",
    "print('Test data shape:', X_test.shape)\n",
    "\n",
    "# SVM classifier\n",
    "clf = SVC(C=1.0, kernel='linear')\n",
    "clf.fit(X_train, y_train)\n",
    "y_pred = clf.predict(X_test)\n",
    "\n",
    "print('Accuracy:', clf.score(X_test, y_test))\n",
    "print(confusion_matrix(y_true=y_test, y_pred=y_pred))"
   ]
  },
  {
   "cell_type": "markdown",
   "metadata": {},
   "source": [
    "---\n",
    "# VPI model\n",
    "\n",
    "This model is slow for big data sets and especially with higher dimensions. So, I am going to add an extra preprocessing stage by subsampling the images first; that way the dimension becomes less problematic than it was before. This model works better when there is a correlation between the labels and the features; more features being similar implies the labels are similar as well and less features being similar implies the otherwise. The question is how to represent the image data so that this precondition of similarity is satisfied. The first simple idea is to represent the whole 2D image as a 1D array of values(pixels); if the images are so similar pixel-wisely then their labels should be the same as well, if not then they should probably represent different numbers and therefore, their labels are probably different. However, this idea can fail due to the several reasons:\n",
    "\n",
    "- What if there are two images with the same label but the pixel-wise comparison gives us high difference between the images(person A's notation of the number 7 may look different than person B's notation of the same number)?\n",
    "- What if there are two images with the same label that contain the numbers a bit shifted from the center and therefore, they are a bit away from each other when you overlap both images?\n",
    "- What if there are two images with the same label one of which contains a number but a bit rotated?\n",
    "- What if there are two images with the same label one of which contains a number which is the scaled version of the number represented on the other image?\n",
    "\n",
    "*Note:* In this data set, I think the first and second factors are the ones which may ruin the whole thing since the numbers are not rotated and scaled tremendously."
   ]
  },
  {
   "cell_type": "code",
   "execution_count": 4,
   "metadata": {},
   "outputs": [],
   "source": [
    "import cv2\n",
    "from tensorflow.keras.utils import to_categorical\n",
    "\n",
    "# Doing the same process with an additional subsampling\n",
    "(X_train2, y_train2), (X_test2, y_test2) = mnist.load_data()\n",
    "\n",
    "X_train3 = list()\n",
    "X_test3 = list()\n",
    "\n",
    "# Subsampling the train images\n",
    "for i in range(X_train2.shape[0]):\n",
    "    X_train3.append(cv2.resize(X_train2[i], (14, 14)))\n",
    "\n",
    "# Subsampling the test images\n",
    "for i in range(X_test2.shape[0]):\n",
    "    X_test3.append(cv2.resize(X_test2[i], (14, 14)))\n",
    "\n",
    "X_train3 = np.array(X_train3).astype('float32')\n",
    "X_test3 = np.array(X_test3).astype('float32')\n",
    "\n",
    "X_train3 /= 255\n",
    "X_test3 /= 255\n",
    "\n",
    "y_train2 = to_categorical(y_train2)\n",
    "y_test2 = to_categorical(y_test2)"
   ]
  },
  {
   "cell_type": "code",
   "execution_count": 5,
   "metadata": {},
   "outputs": [
    {
     "name": "stdout",
     "output_type": "stream",
     "text": [
      "(60000, 14, 14) (10000, 14, 14)\n",
      "(60000, 10) (10000, 10)\n"
     ]
    }
   ],
   "source": [
    "print(X_train3.shape, X_test3.shape)\n",
    "print(y_train2.shape, y_test2.shape)"
   ]
  },
  {
   "cell_type": "code",
   "execution_count": 6,
   "metadata": {},
   "outputs": [
    {
     "data": {
      "image/png": "[encoded data removed]",
      "text/plain": [
       "<Figure size 432x288 with 1 Axes>"
      ]
     },
     "metadata": {
      "needs_background": "light"
     },
     "output_type": "display_data"
    }
   ],
   "source": [
    "plt.imshow(X_train3[0], 'gray');"
   ]
  },
  {
   "cell_type": "code",
   "execution_count": 7,
   "metadata": {},
   "outputs": [
    {
     "name": "stdout",
     "output_type": "stream",
     "text": [
      "(60000, 196) (10000, 196)\n",
      "(60000, 10) (10000, 10)\n"
     ]
    }
   ],
   "source": [
    "X_train3 = np.reshape(X_train3, (X_train3.shape[0], X_train3.shape[1]*X_train3.shape[2]))\n",
    "X_test3 = np.reshape(X_test3, (X_test3.shape[0], X_test3.shape[1]*X_test3.shape[2]))\n",
    "\n",
    "print(X_train3.shape, X_test3.shape)\n",
    "print(y_train2.shape, y_test2.shape)"
   ]
  },
  {
   "cell_type": "code",
   "execution_count": 11,
   "metadata": {},
   "outputs": [
    {
     "name": "stdout",
     "output_type": "stream",
     "text": [
      "              precision    recall  f1-score   support\n",
      "\n",
      "           0       0.91      0.93      0.92        85\n",
      "           1       0.67      1.00      0.80       126\n",
      "           2       0.98      0.52      0.68       116\n",
      "           3       0.81      0.80      0.81       107\n",
      "           4       0.83      0.74      0.78       110\n",
      "           5       0.90      0.69      0.78        87\n",
      "           6       0.84      0.92      0.88        87\n",
      "           7       0.82      0.81      0.82        99\n",
      "           8       0.86      0.63      0.73        89\n",
      "           9       0.63      0.90      0.74        94\n",
      "\n",
      "    accuracy                           0.79      1000\n",
      "   macro avg       0.82      0.79      0.79      1000\n",
      "weighted avg       0.82      0.79      0.79      1000\n",
      "\n"
     ]
    }
   ],
   "source": [
    "import vpi\n",
    "import importlib\n",
    "importlib.reload(vpi)\n",
    "from vpi import *\n",
    "\n",
    "from sklearn.metrics import confusion_matrix, classification_report\n",
    "\n",
    "# With the traing set of 2000 images\n",
    "X_train4 = X_train3[:2000]\n",
    "y_train4 = y_train2[:2000]\n",
    "# With the test set of 1000 images\n",
    "X_test4 = X_test3[:1000]\n",
    "y_test4 = y_test2[:1000]\n",
    "\n",
    "y_pred = vpi(X_test4, X_train4, y_train4, n=70)\n",
    "y_test_ = [list(y).index(1) for y in y_test4]\n",
    "y_pred_ = [list(y).index(max(y)) for y in y_pred]\n",
    "\n",
    "print(classification_report(y_test_, y_pred_, target_names=[str(i) for i in range(10)]))"
   ]
  },
  {
   "cell_type": "code",
   "execution_count": 12,
   "metadata": {},
   "outputs": [
    {
     "name": "stdout",
     "output_type": "stream",
     "text": [
      "[[ 79   0   0   0   1   1   3   0   0   1]\n",
      " [  0 126   0   0   0   0   0   0   0   0]\n",
      " [  1  31  60   5   2   1   3   7   6   0]\n",
      " [  0  10   0  86   0   2   2   2   2   3]\n",
      " [  0   3   0   0  81   0   2   0   0  24]\n",
      " [  2   4   0   6   3  60   3   2   1   6]\n",
      " [  2   0   0   0   3   2  80   0   0   0]\n",
      " [  0  10   0   1   1   0   0  80   0   7]\n",
      " [  3   4   1   7   3   1   2   3  56   9]\n",
      " [  0   1   0   1   4   0   0   3   0  85]]\n"
     ]
    }
   ],
   "source": [
    "print(confusion_matrix(y_true=y_test_, y_pred=y_pred_))"
   ]
  }
 ],
 "metadata": {
  "kernelspec": {
   "display_name": "Python 3",
   "language": "python",
   "name": "python3"
  },
  "language_info": {
   "codemirror_mode": {
    "name": "ipython",
    "version": 3
   },
   "file_extension": ".py",
   "mimetype": "text/x-python",
   "name": "python",
   "nbconvert_exporter": "python",
   "pygments_lexer": "ipython3",
   "version": "3.8.3"
  }
 },
 "nbformat": 4,
 "nbformat_minor": 2
}
