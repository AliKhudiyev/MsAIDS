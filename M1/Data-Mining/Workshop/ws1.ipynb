{
 "cells": [
  {
   "cell_type": "markdown",
   "metadata": {},
   "source": [
    "\n",
    "## **Workshop on Data processing**\n",
    "\n",
    "Welcome to this hands-on training where you will immerse yourself in Data processing with Python. Using both `pandas` and `scikit learn`, we'll learn how to process data for machine learning. In this session you will learn:\n",
    "\n",
    "- The different types of machine learning and when to use them.\n",
    "- How to apply data preprocessing for machine learning including feature engineering. \n",
    "\n",
    "\n",
    "\n",
    "## **The Dataset**\n",
    "\n",
    "The dataset to be used in this webinar is a CSV file named `telco.csv`, which contains data on telecom customers churning and some of their key behaviors. It contains the following columns:\n",
    "\n",
    "**Features**:\n",
    "\n",
    "- `customerID`: Unique identifier of a customer.\n",
    "- `gender`: Gender of customer.\n",
    "- `SeniorCitizen`: Binary variable indicating if customer is senior citizen.\n",
    "- `Partner`: Binary variable if customer has a partner.\n",
    "- `Dependents`: Binary variable if customer has dependent.\n",
    "- `tenure`: Number of weeks as a customer.\n",
    "- `PhoneService`: Whether customer has phone service.\n",
    "- `MultipleLines`: Whether customer has multiple lines.\n",
    "- `InternetService`: What type of internet service customer has (`\"DSL\"`, `\"Fiber optic\"`, `\"No\"`).\n",
    "- `OnlineSecurity`: Whether customer has online security service.\n",
    "- `OnlineBackup`: Whether customer has online backup service.\n",
    "- `DeviceProtection`: Whether customer has device protection service.\n",
    "- `TechSupport`: Whether customer has tech support service.\n",
    "- `StreamingTV`: Whether customer has TV streaming service.\n",
    "- `StreamingMovies`: Whether customer has movies streaming service.\n",
    "- `Contract`: Customer Contract Type (`'Month-to-month'`, `'One year'`, `'Two year'`).\n",
    "- `PaperlessBilling`: Whether paperless billing is enabled.\n",
    "- `PaymentMethod`: Payment method.\n",
    "- `MonthlyCharges`: Amount of monthly charges in $.\n",
    "- `TotalCharges`: Amount of total charges so far.\n",
    "\n",
    "**Target Variable**:\n",
    "\n",
    "- `Churn`: Whether customer `'Stayed'` or `'Churned'`.\n",
    "\n"
   ]
  },
  {
   "cell_type": "code",
   "execution_count": 1,
   "metadata": {},
   "outputs": [],
   "source": [
    "# Import pandas, matplotlib, seaborn, numpy and sklearn\n",
    "import pandas as pd\n",
    "import matplotlib.pyplot as plt\n",
    "import seaborn as sns\n",
    "import numpy as np\n",
    "import sklearn"
   ]
  },
  {
   "cell_type": "code",
   "execution_count": 2,
   "metadata": {},
   "outputs": [],
   "source": [
    "# Read in dataset\n",
    "telco = pd.read_csv('https://seafile.unistra.fr/f/5f6f582ab0db425b94d4/?dl=1', index_col = \"Unnamed: 0\")\n",
    "pd.set_option('display.max_columns', None)"
   ]
  },
  {
   "cell_type": "code",
   "execution_count": 4,
   "metadata": {},
   "outputs": [
    {
     "output_type": "execute_result",
     "data": {
      "text/plain": [
       "   customerID  gender SeniorCitizen Partner Dependents  tenure PhoneService  \\\n",
       "0  7590-VHVEG  Female            No     Yes         No       1           No   \n",
       "1  5575-GNVDE    Male            No      No         No      34          Yes   \n",
       "2  3668-QPYBK    Male            No      No         No       2          Yes   \n",
       "3  7795-CFOCW    Male            No      No         No      45           No   \n",
       "4  9237-HQITU  Female            No      No         No       2          Yes   \n",
       "\n",
       "      MultipleLines InternetService OnlineSecurity OnlineBackup  \\\n",
       "0  No phone service             DSL             No          Yes   \n",
       "1                No             DSL            Yes           No   \n",
       "2                No             DSL            Yes          Yes   \n",
       "3  No phone service             DSL            Yes           No   \n",
       "4                No     Fiber optic             No           No   \n",
       "\n",
       "  DeviceProtection TechSupport StreamingTV StreamingMovies        Contract  \\\n",
       "0               No          No          No              No  Month-to-month   \n",
       "1              Yes          No          No              No        One year   \n",
       "2               No          No          No              No  Month-to-month   \n",
       "3              Yes         Yes          No              No        One year   \n",
       "4               No          No          No              No  Month-to-month   \n",
       "\n",
       "  PaperlessBilling              PaymentMethod  MonthlyCharges TotalCharges  \\\n",
       "0              Yes           Electronic check           29.85        29.85   \n",
       "1               No               Mailed check           56.95       1889.5   \n",
       "2              Yes               Mailed check           53.85       108.15   \n",
       "3               No  Bank transfer (automatic)           42.30      1840.75   \n",
       "4              Yes           Electronic check           70.70       151.65   \n",
       "\n",
       "     Churn  \n",
       "0   Stayed  \n",
       "1   Stayed  \n",
       "2  Churned  \n",
       "3   Stayed  \n",
       "4  Churned  "
      ],
      "text/html": "<div>\n<style scoped>\n    .dataframe tbody tr th:only-of-type {\n        vertical-align: middle;\n    }\n\n    .dataframe tbody tr th {\n        vertical-align: top;\n    }\n\n    .dataframe thead th {\n        text-align: right;\n    }\n</style>\n<table border=\"1\" class=\"dataframe\">\n  <thead>\n    <tr style=\"text-align: right;\">\n      <th></th>\n      <th>customerID</th>\n      <th>gender</th>\n      <th>SeniorCitizen</th>\n      <th>Partner</th>\n      <th>Dependents</th>\n      <th>tenure</th>\n      <th>PhoneService</th>\n      <th>MultipleLines</th>\n      <th>InternetService</th>\n      <th>OnlineSecurity</th>\n      <th>OnlineBackup</th>\n      <th>DeviceProtection</th>\n      <th>TechSupport</th>\n      <th>StreamingTV</th>\n      <th>StreamingMovies</th>\n      <th>Contract</th>\n      <th>PaperlessBilling</th>\n      <th>PaymentMethod</th>\n      <th>MonthlyCharges</th>\n      <th>TotalCharges</th>\n      <th>Churn</th>\n    </tr>\n  </thead>\n  <tbody>\n    <tr>\n      <th>0</th>\n      <td>7590-VHVEG</td>\n      <td>Female</td>\n      <td>No</td>\n      <td>Yes</td>\n      <td>No</td>\n      <td>1</td>\n      <td>No</td>\n      <td>No phone service</td>\n      <td>DSL</td>\n      <td>No</td>\n      <td>Yes</td>\n      <td>No</td>\n      <td>No</td>\n      <td>No</td>\n      <td>No</td>\n      <td>Month-to-month</td>\n      <td>Yes</td>\n      <td>Electronic check</td>\n      <td>29.85</td>\n      <td>29.85</td>\n      <td>Stayed</td>\n    </tr>\n    <tr>\n      <th>1</th>\n      <td>5575-GNVDE</td>\n      <td>Male</td>\n      <td>No</td>\n      <td>No</td>\n      <td>No</td>\n      <td>34</td>\n      <td>Yes</td>\n      <td>No</td>\n      <td>DSL</td>\n      <td>Yes</td>\n      <td>No</td>\n      <td>Yes</td>\n      <td>No</td>\n      <td>No</td>\n      <td>No</td>\n      <td>One year</td>\n      <td>No</td>\n      <td>Mailed check</td>\n      <td>56.95</td>\n      <td>1889.5</td>\n      <td>Stayed</td>\n    </tr>\n    <tr>\n      <th>2</th>\n      <td>3668-QPYBK</td>\n      <td>Male</td>\n      <td>No</td>\n      <td>No</td>\n      <td>No</td>\n      <td>2</td>\n      <td>Yes</td>\n      <td>No</td>\n      <td>DSL</td>\n      <td>Yes</td>\n      <td>Yes</td>\n      <td>No</td>\n      <td>No</td>\n      <td>No</td>\n      <td>No</td>\n      <td>Month-to-month</td>\n      <td>Yes</td>\n      <td>Mailed check</td>\n      <td>53.85</td>\n      <td>108.15</td>\n      <td>Churned</td>\n    </tr>\n    <tr>\n      <th>3</th>\n      <td>7795-CFOCW</td>\n      <td>Male</td>\n      <td>No</td>\n      <td>No</td>\n      <td>No</td>\n      <td>45</td>\n      <td>No</td>\n      <td>No phone service</td>\n      <td>DSL</td>\n      <td>Yes</td>\n      <td>No</td>\n      <td>Yes</td>\n      <td>Yes</td>\n      <td>No</td>\n      <td>No</td>\n      <td>One year</td>\n      <td>No</td>\n      <td>Bank transfer (automatic)</td>\n      <td>42.30</td>\n      <td>1840.75</td>\n      <td>Stayed</td>\n    </tr>\n    <tr>\n      <th>4</th>\n      <td>9237-HQITU</td>\n      <td>Female</td>\n      <td>No</td>\n      <td>No</td>\n      <td>No</td>\n      <td>2</td>\n      <td>Yes</td>\n      <td>No</td>\n      <td>Fiber optic</td>\n      <td>No</td>\n      <td>No</td>\n      <td>No</td>\n      <td>No</td>\n      <td>No</td>\n      <td>No</td>\n      <td>Month-to-month</td>\n      <td>Yes</td>\n      <td>Electronic check</td>\n      <td>70.70</td>\n      <td>151.65</td>\n      <td>Churned</td>\n    </tr>\n  </tbody>\n</table>\n</div>"
     },
     "metadata": {},
     "execution_count": 4
    }
   ],
   "source": [
    "# Print header with the header function\n",
    "telco.head()\n"
   ]
  },
  {
   "cell_type": "markdown",
   "metadata": {},
   "source": [
    "- **Observation 1:** For the purposes of machine learning, the `customerID` doesn't have any predictive power and will be dropped.\n",
    "- **Observation 2:** Categorical variables need to be encoded as numeric for machine learning."
   ]
  },
  {
   "cell_type": "code",
   "execution_count": 5,
   "metadata": {},
   "outputs": [
    {
     "output_type": "stream",
     "name": "stdout",
     "text": [
      "<class 'pandas.core.frame.DataFrame'>\nInt64Index: 7043 entries, 0 to 7042\nData columns (total 21 columns):\n #   Column            Non-Null Count  Dtype  \n---  ------            --------------  -----  \n 0   customerID        7043 non-null   object \n 1   gender            7043 non-null   object \n 2   SeniorCitizen     7043 non-null   object \n 3   Partner           7043 non-null   object \n 4   Dependents        7043 non-null   object \n 5   tenure            7043 non-null   int64  \n 6   PhoneService      7043 non-null   object \n 7   MultipleLines     7043 non-null   object \n 8   InternetService   7043 non-null   object \n 9   OnlineSecurity    7043 non-null   object \n 10  OnlineBackup      7043 non-null   object \n 11  DeviceProtection  7043 non-null   object \n 12  TechSupport       7043 non-null   object \n 13  StreamingTV       7043 non-null   object \n 14  StreamingMovies   7043 non-null   object \n 15  Contract          7043 non-null   object \n 16  PaperlessBilling  7043 non-null   object \n 17  PaymentMethod     7043 non-null   object \n 18  MonthlyCharges    7043 non-null   float64\n 19  TotalCharges      7043 non-null   object \n 20  Churn             7043 non-null   object \ndtypes: float64(1), int64(1), object(19)\nmemory usage: 1.5+ MB\n"
     ]
    }
   ],
   "source": [
    "# Print info of the dataset using info function\n",
    "telco.info()"
   ]
  },
  {
   "cell_type": "markdown",
   "metadata": {},
   "source": [
    "**Observation 3:** `TotalCharges` column is of type `object` - it needs to be converted to `float`."
   ]
  },
  {
   "cell_type": "code",
   "execution_count": 11,
   "metadata": {},
   "outputs": [
    {
     "output_type": "stream",
     "name": "stdout",
     "text": [
      "customerID : ['7590-VHVEG' '5575-GNVDE' '3668-QPYBK' ... '4801-JZAZL' '8361-LTMKD'\n '3186-AJIEK']\ngender : ['Female' 'Male']\nSeniorCitizen : ['No' 'Yes']\nPartner : ['Yes' 'No']\nDependents : ['No' 'Yes']\ntenure : [ 1 34  2 45  8 22 10 28 62 13 16 58 49 25 69 52 71 21 12 30 47 72 17 27\n  5 46 11 70 63 43 15 60 18 66  9  3 31 50 64 56  7 42 35 48 29 65 38 68\n 32 55 37 36 41  6  4 33 67 23 57 61 14 20 53 40 59 24 44 19 54 51 26  0\n 39]\nPhoneService : ['No' 'Yes']\nMultipleLines : ['No phone service' 'No' 'Yes']\nInternetService : ['DSL' 'Fiber optic' 'No' 'dsl']\nOnlineSecurity : ['No' 'Yes' 'No internet service']\nOnlineBackup : ['Yes' 'No' 'No internet service']\nDeviceProtection : ['No' 'Yes' 'No internet service']\nTechSupport : ['No' 'Yes' 'No internet service']\nStreamingTV : ['No' 'Yes' 'No internet service']\nStreamingMovies : ['No' 'Yes' 'No internet service']\nContract : ['Month-to-month' 'One year' 'Two year']\nPaperlessBilling : ['Yes' 'No']\nPaymentMethod : ['Electronic check' 'Mailed check' 'Bank transfer (automatic)'\n 'Credit card (automatic)']\nMonthlyCharges : [29.85 56.95 53.85 ... 63.1  44.2  78.7 ]\nTotalCharges : ['29.85' '1889.5' '108.15' ... '346.45' '306.6' '6844.5']\nChurn : ['Stayed' 'Churned']\n"
     ]
    }
   ],
   "source": [
    "# Take a look at unique values in telco\n",
    "for column in telco.columns:\n",
    "    print(column, ':', telco[column].unique())"
   ]
  },
  {
   "cell_type": "markdown",
   "metadata": {},
   "source": [
    "**Observation 4:** The `InternetService` column should have `'DSL'`, `'Fiber optic'` and `'No'` as values - yet here there are 4 unique values. "
   ]
  },
  {
   "cell_type": "code",
   "execution_count": 12,
   "metadata": {},
   "outputs": [
    {
     "output_type": "execute_result",
     "data": {
      "text/plain": [
       "array(['DSL', 'Fiber optic', 'No', 'dsl'], dtype=object)"
      ]
     },
     "metadata": {},
     "execution_count": 12
    }
   ],
   "source": [
    "# Show unique values of internet service\n",
    "telco['InternetService'].unique()"
   ]
  },
  {
   "cell_type": "markdown",
   "metadata": {},
   "source": [
    "**Observation 4:** The `InternetService` column has a `'dsl'` value that needs to be collapsed to `'DSL'`."
   ]
  },
  {
   "cell_type": "markdown",
   "metadata": {},
   "source": [
    "## **Data Cleaning**"
   ]
  },
  {
   "cell_type": "markdown",
   "metadata": {},
   "source": [
    "**Task 1: Dropping** `customerID` **column**\n",
    "\n",
    "To drop a column from a DataFrame - we can use the `.drop()` method alongside the following arguments:\n",
    "\n",
    "- Name of `column` dropped - in this example `'customerID'`\n",
    "- `axis`: Whether to drop row (`0`), or column (`1`).\n",
    "- `inplace`: Boolean whether to drop in place and overwrite change in DataFrame."
   ]
  },
  {
   "cell_type": "code",
   "execution_count": 14,
   "metadata": {},
   "outputs": [
    {
     "output_type": "execute_result",
     "data": {
      "text/plain": [
       "      gender SeniorCitizen Partner Dependents  tenure PhoneService  \\\n",
       "0     Female            No     Yes         No       1           No   \n",
       "1       Male            No      No         No      34          Yes   \n",
       "2       Male            No      No         No       2          Yes   \n",
       "3       Male            No      No         No      45           No   \n",
       "4     Female            No      No         No       2          Yes   \n",
       "...      ...           ...     ...        ...     ...          ...   \n",
       "7038    Male            No     Yes        Yes      24          Yes   \n",
       "7039  Female            No     Yes        Yes      72          Yes   \n",
       "7040  Female            No     Yes        Yes      11           No   \n",
       "7041    Male           Yes     Yes         No       4          Yes   \n",
       "7042    Male            No      No         No      66          Yes   \n",
       "\n",
       "         MultipleLines InternetService OnlineSecurity OnlineBackup  \\\n",
       "0     No phone service             DSL             No          Yes   \n",
       "1                   No             DSL            Yes           No   \n",
       "2                   No             DSL            Yes          Yes   \n",
       "3     No phone service             DSL            Yes           No   \n",
       "4                   No     Fiber optic             No           No   \n",
       "...                ...             ...            ...          ...   \n",
       "7038               Yes             DSL            Yes           No   \n",
       "7039               Yes     Fiber optic             No          Yes   \n",
       "7040  No phone service             DSL            Yes           No   \n",
       "7041               Yes     Fiber optic             No           No   \n",
       "7042                No     Fiber optic            Yes           No   \n",
       "\n",
       "     DeviceProtection TechSupport StreamingTV StreamingMovies        Contract  \\\n",
       "0                  No          No          No              No  Month-to-month   \n",
       "1                 Yes          No          No              No        One year   \n",
       "2                  No          No          No              No  Month-to-month   \n",
       "3                 Yes         Yes          No              No        One year   \n",
       "4                  No          No          No              No  Month-to-month   \n",
       "...               ...         ...         ...             ...             ...   \n",
       "7038              Yes         Yes         Yes             Yes        One year   \n",
       "7039              Yes          No         Yes             Yes        One year   \n",
       "7040               No          No          No              No  Month-to-month   \n",
       "7041               No          No          No              No  Month-to-month   \n",
       "7042              Yes         Yes         Yes             Yes        Two year   \n",
       "\n",
       "     PaperlessBilling              PaymentMethod  MonthlyCharges TotalCharges  \\\n",
       "0                 Yes           Electronic check           29.85        29.85   \n",
       "1                  No               Mailed check           56.95       1889.5   \n",
       "2                 Yes               Mailed check           53.85       108.15   \n",
       "3                  No  Bank transfer (automatic)           42.30      1840.75   \n",
       "4                 Yes           Electronic check           70.70       151.65   \n",
       "...               ...                        ...             ...          ...   \n",
       "7038              Yes               Mailed check           84.80       1990.5   \n",
       "7039              Yes    Credit card (automatic)          103.20       7362.9   \n",
       "7040              Yes           Electronic check           29.60       346.45   \n",
       "7041              Yes               Mailed check           74.40        306.6   \n",
       "7042              Yes  Bank transfer (automatic)          105.65       6844.5   \n",
       "\n",
       "        Churn  \n",
       "0      Stayed  \n",
       "1      Stayed  \n",
       "2     Churned  \n",
       "3      Stayed  \n",
       "4     Churned  \n",
       "...       ...  \n",
       "7038   Stayed  \n",
       "7039   Stayed  \n",
       "7040   Stayed  \n",
       "7041  Churned  \n",
       "7042   Stayed  \n",
       "\n",
       "[7043 rows x 20 columns]"
      ],
      "text/html": "<div>\n<style scoped>\n    .dataframe tbody tr th:only-of-type {\n        vertical-align: middle;\n    }\n\n    .dataframe tbody tr th {\n        vertical-align: top;\n    }\n\n    .dataframe thead th {\n        text-align: right;\n    }\n</style>\n<table border=\"1\" class=\"dataframe\">\n  <thead>\n    <tr style=\"text-align: right;\">\n      <th></th>\n      <th>gender</th>\n      <th>SeniorCitizen</th>\n      <th>Partner</th>\n      <th>Dependents</th>\n      <th>tenure</th>\n      <th>PhoneService</th>\n      <th>MultipleLines</th>\n      <th>InternetService</th>\n      <th>OnlineSecurity</th>\n      <th>OnlineBackup</th>\n      <th>DeviceProtection</th>\n      <th>TechSupport</th>\n      <th>StreamingTV</th>\n      <th>StreamingMovies</th>\n      <th>Contract</th>\n      <th>PaperlessBilling</th>\n      <th>PaymentMethod</th>\n      <th>MonthlyCharges</th>\n      <th>TotalCharges</th>\n      <th>Churn</th>\n    </tr>\n  </thead>\n  <tbody>\n    <tr>\n      <th>0</th>\n      <td>Female</td>\n      <td>No</td>\n      <td>Yes</td>\n      <td>No</td>\n      <td>1</td>\n      <td>No</td>\n      <td>No phone service</td>\n      <td>DSL</td>\n      <td>No</td>\n      <td>Yes</td>\n      <td>No</td>\n      <td>No</td>\n      <td>No</td>\n      <td>No</td>\n      <td>Month-to-month</td>\n      <td>Yes</td>\n      <td>Electronic check</td>\n      <td>29.85</td>\n      <td>29.85</td>\n      <td>Stayed</td>\n    </tr>\n    <tr>\n      <th>1</th>\n      <td>Male</td>\n      <td>No</td>\n      <td>No</td>\n      <td>No</td>\n      <td>34</td>\n      <td>Yes</td>\n      <td>No</td>\n      <td>DSL</td>\n      <td>Yes</td>\n      <td>No</td>\n      <td>Yes</td>\n      <td>No</td>\n      <td>No</td>\n      <td>No</td>\n      <td>One year</td>\n      <td>No</td>\n      <td>Mailed check</td>\n      <td>56.95</td>\n      <td>1889.5</td>\n      <td>Stayed</td>\n    </tr>\n    <tr>\n      <th>2</th>\n      <td>Male</td>\n      <td>No</td>\n      <td>No</td>\n      <td>No</td>\n      <td>2</td>\n      <td>Yes</td>\n      <td>No</td>\n      <td>DSL</td>\n      <td>Yes</td>\n      <td>Yes</td>\n      <td>No</td>\n      <td>No</td>\n      <td>No</td>\n      <td>No</td>\n      <td>Month-to-month</td>\n      <td>Yes</td>\n      <td>Mailed check</td>\n      <td>53.85</td>\n      <td>108.15</td>\n      <td>Churned</td>\n    </tr>\n    <tr>\n      <th>3</th>\n      <td>Male</td>\n      <td>No</td>\n      <td>No</td>\n      <td>No</td>\n      <td>45</td>\n      <td>No</td>\n      <td>No phone service</td>\n      <td>DSL</td>\n      <td>Yes</td>\n      <td>No</td>\n      <td>Yes</td>\n      <td>Yes</td>\n      <td>No</td>\n      <td>No</td>\n      <td>One year</td>\n      <td>No</td>\n      <td>Bank transfer (automatic)</td>\n      <td>42.30</td>\n      <td>1840.75</td>\n      <td>Stayed</td>\n    </tr>\n    <tr>\n      <th>4</th>\n      <td>Female</td>\n      <td>No</td>\n      <td>No</td>\n      <td>No</td>\n      <td>2</td>\n      <td>Yes</td>\n      <td>No</td>\n      <td>Fiber optic</td>\n      <td>No</td>\n      <td>No</td>\n      <td>No</td>\n      <td>No</td>\n      <td>No</td>\n      <td>No</td>\n      <td>Month-to-month</td>\n      <td>Yes</td>\n      <td>Electronic check</td>\n      <td>70.70</td>\n      <td>151.65</td>\n      <td>Churned</td>\n    </tr>\n    <tr>\n      <th>...</th>\n      <td>...</td>\n      <td>...</td>\n      <td>...</td>\n      <td>...</td>\n      <td>...</td>\n      <td>...</td>\n      <td>...</td>\n      <td>...</td>\n      <td>...</td>\n      <td>...</td>\n      <td>...</td>\n      <td>...</td>\n      <td>...</td>\n      <td>...</td>\n      <td>...</td>\n      <td>...</td>\n      <td>...</td>\n      <td>...</td>\n      <td>...</td>\n      <td>...</td>\n    </tr>\n    <tr>\n      <th>7038</th>\n      <td>Male</td>\n      <td>No</td>\n      <td>Yes</td>\n      <td>Yes</td>\n      <td>24</td>\n      <td>Yes</td>\n      <td>Yes</td>\n      <td>DSL</td>\n      <td>Yes</td>\n      <td>No</td>\n      <td>Yes</td>\n      <td>Yes</td>\n      <td>Yes</td>\n      <td>Yes</td>\n      <td>One year</td>\n      <td>Yes</td>\n      <td>Mailed check</td>\n      <td>84.80</td>\n      <td>1990.5</td>\n      <td>Stayed</td>\n    </tr>\n    <tr>\n      <th>7039</th>\n      <td>Female</td>\n      <td>No</td>\n      <td>Yes</td>\n      <td>Yes</td>\n      <td>72</td>\n      <td>Yes</td>\n      <td>Yes</td>\n      <td>Fiber optic</td>\n      <td>No</td>\n      <td>Yes</td>\n      <td>Yes</td>\n      <td>No</td>\n      <td>Yes</td>\n      <td>Yes</td>\n      <td>One year</td>\n      <td>Yes</td>\n      <td>Credit card (automatic)</td>\n      <td>103.20</td>\n      <td>7362.9</td>\n      <td>Stayed</td>\n    </tr>\n    <tr>\n      <th>7040</th>\n      <td>Female</td>\n      <td>No</td>\n      <td>Yes</td>\n      <td>Yes</td>\n      <td>11</td>\n      <td>No</td>\n      <td>No phone service</td>\n      <td>DSL</td>\n      <td>Yes</td>\n      <td>No</td>\n      <td>No</td>\n      <td>No</td>\n      <td>No</td>\n      <td>No</td>\n      <td>Month-to-month</td>\n      <td>Yes</td>\n      <td>Electronic check</td>\n      <td>29.60</td>\n      <td>346.45</td>\n      <td>Stayed</td>\n    </tr>\n    <tr>\n      <th>7041</th>\n      <td>Male</td>\n      <td>Yes</td>\n      <td>Yes</td>\n      <td>No</td>\n      <td>4</td>\n      <td>Yes</td>\n      <td>Yes</td>\n      <td>Fiber optic</td>\n      <td>No</td>\n      <td>No</td>\n      <td>No</td>\n      <td>No</td>\n      <td>No</td>\n      <td>No</td>\n      <td>Month-to-month</td>\n      <td>Yes</td>\n      <td>Mailed check</td>\n      <td>74.40</td>\n      <td>306.6</td>\n      <td>Churned</td>\n    </tr>\n    <tr>\n      <th>7042</th>\n      <td>Male</td>\n      <td>No</td>\n      <td>No</td>\n      <td>No</td>\n      <td>66</td>\n      <td>Yes</td>\n      <td>No</td>\n      <td>Fiber optic</td>\n      <td>Yes</td>\n      <td>No</td>\n      <td>Yes</td>\n      <td>Yes</td>\n      <td>Yes</td>\n      <td>Yes</td>\n      <td>Two year</td>\n      <td>Yes</td>\n      <td>Bank transfer (automatic)</td>\n      <td>105.65</td>\n      <td>6844.5</td>\n      <td>Stayed</td>\n    </tr>\n  </tbody>\n</table>\n<p>7043 rows × 20 columns</p>\n</div>"
     },
     "metadata": {},
     "execution_count": 14
    }
   ],
   "source": [
    "# Drop customer ID column\n",
    "telco.drop(['customerID'], axis=1)"
   ]
  },
  {
   "cell_type": "markdown",
   "metadata": {},
   "source": [
    "**Task 2: Converting** `TotalCharges` **column**\n",
    "\n",
    "To convert a column from string to numeric - we can use the `pd.to_numeric()` function - which takes the following arguments:\n",
    "\n",
    "- Name of `column` to convert - in this example `'TotalCharges'`\n",
    "- `errors`: Whether to `'raise'` an error if cannot convert or to `'coerce'` it to `NaN`."
   ]
  },
  {
   "cell_type": "code",
   "execution_count": 17,
   "metadata": {},
   "outputs": [],
   "source": [
    "# Convert TotalCharges to numeric using to_numeric function\n",
    "telco['TotalCharges'] = pd.to_numeric(telco['TotalCharges'], errors='coerce')"
   ]
  },
  {
   "cell_type": "code",
   "execution_count": 18,
   "metadata": {},
   "outputs": [
    {
     "output_type": "stream",
     "name": "stdout",
     "text": [
      "<class 'pandas.core.frame.DataFrame'>\nInt64Index: 7043 entries, 0 to 7042\nData columns (total 21 columns):\n #   Column            Non-Null Count  Dtype  \n---  ------            --------------  -----  \n 0   customerID        7043 non-null   object \n 1   gender            7043 non-null   object \n 2   SeniorCitizen     7043 non-null   object \n 3   Partner           7043 non-null   object \n 4   Dependents        7043 non-null   object \n 5   tenure            7043 non-null   int64  \n 6   PhoneService      7043 non-null   object \n 7   MultipleLines     7043 non-null   object \n 8   InternetService   7043 non-null   object \n 9   OnlineSecurity    7043 non-null   object \n 10  OnlineBackup      7043 non-null   object \n 11  DeviceProtection  7043 non-null   object \n 12  TechSupport       7043 non-null   object \n 13  StreamingTV       7043 non-null   object \n 14  StreamingMovies   7043 non-null   object \n 15  Contract          7043 non-null   object \n 16  PaperlessBilling  7043 non-null   object \n 17  PaymentMethod     7043 non-null   object \n 18  MonthlyCharges    7043 non-null   float64\n 19  TotalCharges      7032 non-null   float64\n 20  Churn             7043 non-null   object \ndtypes: float64(2), int64(1), object(18)\nmemory usage: 1.5+ MB\n"
     ]
    }
   ],
   "source": [
    "# Print info\n",
    "telco.info()"
   ]
  },
  {
   "cell_type": "code",
   "execution_count": 20,
   "metadata": {},
   "outputs": [
    {
     "output_type": "execute_result",
     "data": {
      "text/plain": [
       "customerID           0\n",
       "gender               0\n",
       "SeniorCitizen        0\n",
       "Partner              0\n",
       "Dependents           0\n",
       "tenure               0\n",
       "PhoneService         0\n",
       "MultipleLines        0\n",
       "InternetService      0\n",
       "OnlineSecurity       0\n",
       "OnlineBackup         0\n",
       "DeviceProtection     0\n",
       "TechSupport          0\n",
       "StreamingTV          0\n",
       "StreamingMovies      0\n",
       "Contract             0\n",
       "PaperlessBilling     0\n",
       "PaymentMethod        0\n",
       "MonthlyCharges       0\n",
       "TotalCharges        11\n",
       "Churn                0\n",
       "dtype: int64"
      ]
     },
     "metadata": {},
     "execution_count": 20
    }
   ],
   "source": [
    "# Print # of missing values\n",
    "telco.isna().sum()"
   ]
  },
  {
   "cell_type": "markdown",
   "metadata": {},
   "source": [
    "**Observation 5:** The `TotalCharges` column has 11 missing values here - we can either drop them or impute them with a statistical measure _(e.g. median or mean)_."
   ]
  },
  {
   "cell_type": "code",
   "execution_count": 21,
   "metadata": {},
   "outputs": [
    {
     "output_type": "execute_result",
     "data": {
      "text/plain": [
       "count    7032.000000\n",
       "mean     2283.300441\n",
       "std      2266.771362\n",
       "min        18.800000\n",
       "25%       401.450000\n",
       "50%      1397.475000\n",
       "75%      3794.737500\n",
       "max      8684.800000\n",
       "Name: TotalCharges, dtype: float64"
      ]
     },
     "metadata": {},
     "execution_count": 21
    }
   ],
   "source": [
    "# Get distribution of TotalCharges using the describe function\n",
    "telco['TotalCharges'].describe()"
   ]
  },
  {
   "cell_type": "markdown",
   "metadata": {},
   "source": [
    "**Reminder :** As a reminder, the `.loc[]` method lets us slice a DataFrame by a group of rows or columns by labels or boolean arrays - meaning we can subset a DataFrame `df` as such:\n",
    "\n",
    "```\n",
    "df.loc[row condition, column label]\n",
    "```"
   ]
  },
  {
   "cell_type": "code",
   "execution_count": 25,
   "metadata": {},
   "outputs": [
    {
     "output_type": "execute_result",
     "data": {
      "text/plain": [
       "1397.475"
      ]
     },
     "metadata": {},
     "execution_count": 25
    }
   ],
   "source": [
    "# Replace NA of TotalCharges with median using isna() function\n",
    "telco.loc[telco['TotalCharges'].isna(), 'TotalCharges'] = telco['TotalCharges'].median()"
   ]
  },
  {
   "cell_type": "code",
   "execution_count": 26,
   "metadata": {},
   "outputs": [
    {
     "output_type": "execute_result",
     "data": {
      "text/plain": [
       "customerID          0\n",
       "gender              0\n",
       "SeniorCitizen       0\n",
       "Partner             0\n",
       "Dependents          0\n",
       "tenure              0\n",
       "PhoneService        0\n",
       "MultipleLines       0\n",
       "InternetService     0\n",
       "OnlineSecurity      0\n",
       "OnlineBackup        0\n",
       "DeviceProtection    0\n",
       "TechSupport         0\n",
       "StreamingTV         0\n",
       "StreamingMovies     0\n",
       "Contract            0\n",
       "PaperlessBilling    0\n",
       "PaymentMethod       0\n",
       "MonthlyCharges      0\n",
       "TotalCharges        0\n",
       "Churn               0\n",
       "dtype: int64"
      ]
     },
     "metadata": {},
     "execution_count": 26
    }
   ],
   "source": [
    "telco.isna().sum()"
   ]
  },
  {
   "cell_type": "markdown",
   "metadata": {},
   "source": [
    "Create a dataset from telco that contains the columns `gender`,`SeniorCitizen`,`TotalCharges`,`MultipleLines` and `MonthlyCharges`\n",
    "\n"
   ]
  },
  {
   "cell_type": "code",
   "execution_count": 53,
   "metadata": {},
   "outputs": [
    {
     "output_type": "execute_result",
     "data": {
      "text/plain": [
       "   gender SeniorCitizen  TotalCharges     MultipleLines  MonthlyCharges\n",
       "0  Female            No         29.85  No phone service           29.85\n",
       "1    Male            No       1889.50                No           56.95\n",
       "2    Male            No        108.15                No           53.85\n",
       "3    Male            No       1840.75  No phone service           42.30\n",
       "4  Female            No        151.65                No           70.70"
      ],
      "text/html": "<div>\n<style scoped>\n    .dataframe tbody tr th:only-of-type {\n        vertical-align: middle;\n    }\n\n    .dataframe tbody tr th {\n        vertical-align: top;\n    }\n\n    .dataframe thead th {\n        text-align: right;\n    }\n</style>\n<table border=\"1\" class=\"dataframe\">\n  <thead>\n    <tr style=\"text-align: right;\">\n      <th></th>\n      <th>gender</th>\n      <th>SeniorCitizen</th>\n      <th>TotalCharges</th>\n      <th>MultipleLines</th>\n      <th>MonthlyCharges</th>\n    </tr>\n  </thead>\n  <tbody>\n    <tr>\n      <th>0</th>\n      <td>Female</td>\n      <td>No</td>\n      <td>29.85</td>\n      <td>No phone service</td>\n      <td>29.85</td>\n    </tr>\n    <tr>\n      <th>1</th>\n      <td>Male</td>\n      <td>No</td>\n      <td>1889.50</td>\n      <td>No</td>\n      <td>56.95</td>\n    </tr>\n    <tr>\n      <th>2</th>\n      <td>Male</td>\n      <td>No</td>\n      <td>108.15</td>\n      <td>No</td>\n      <td>53.85</td>\n    </tr>\n    <tr>\n      <th>3</th>\n      <td>Male</td>\n      <td>No</td>\n      <td>1840.75</td>\n      <td>No phone service</td>\n      <td>42.30</td>\n    </tr>\n    <tr>\n      <th>4</th>\n      <td>Female</td>\n      <td>No</td>\n      <td>151.65</td>\n      <td>No</td>\n      <td>70.70</td>\n    </tr>\n  </tbody>\n</table>\n</div>"
     },
     "metadata": {},
     "execution_count": 53
    }
   ],
   "source": [
    "dataset = telco[['gender', 'SeniorCitizen', 'TotalCharges', 'MultipleLines', 'MonthlyCharges']]\n",
    "dataset.head()"
   ]
  },
  {
   "cell_type": "markdown",
   "metadata": {},
   "source": [
    "Get the list of all features, the categorical and the numerical"
   ]
  },
  {
   "cell_type": "code",
   "execution_count": 54,
   "metadata": {},
   "outputs": [
    {
     "output_type": "stream",
     "name": "stdout",
     "text": [
      "<class 'pandas.core.frame.DataFrame'>\nInt64Index: 7043 entries, 0 to 7042\nData columns (total 5 columns):\n #   Column          Non-Null Count  Dtype  \n---  ------          --------------  -----  \n 0   gender          7043 non-null   object \n 1   SeniorCitizen   7043 non-null   object \n 2   TotalCharges    7043 non-null   float64\n 3   MultipleLines   7043 non-null   object \n 4   MonthlyCharges  7043 non-null   float64\ndtypes: float64(2), object(3)\nmemory usage: 650.1+ KB\n"
     ]
    }
   ],
   "source": [
    "dataset.info()"
   ]
  },
  {
   "cell_type": "code",
   "execution_count": 55,
   "metadata": {},
   "outputs": [],
   "source": [
    "# Get all features\n",
    "features = dataset.columns\n",
    "# Get all categorical features\n",
    "features_categorical = [feature for feature in features if dataset[feature].dtype != 'float64']\n",
    "# Get all numeric columns\n",
    "features_numeric = [feature for feature in features if dataset[feature].dtype == 'float64']\n"
   ]
  },
  {
   "cell_type": "code",
   "execution_count": 56,
   "metadata": {},
   "outputs": [
    {
     "output_type": "stream",
     "name": "stdout",
     "text": [
      "Index(['gender', 'SeniorCitizen', 'TotalCharges', 'MultipleLines',\n       'MonthlyCharges'],\n      dtype='object')\n['gender', 'SeniorCitizen', 'MultipleLines']\n['TotalCharges', 'MonthlyCharges']\n"
     ]
    }
   ],
   "source": [
    "print(features)\n",
    "print(features_categorical)\n",
    "print(features_numeric)"
   ]
  },
  {
   "cell_type": "markdown",
   "metadata": {},
   "source": [
    "Descritize all categorical features with differents labels and store in a dataframe"
   ]
  },
  {
   "cell_type": "code",
   "execution_count": 58,
   "metadata": {},
   "outputs": [
    {
     "output_type": "stream",
     "name": "stdout",
     "text": [
      "gender : ['Female' 'Male']\nSeniorCitizen : ['No' 'Yes']\nMultipleLines : ['No phone service' 'No' 'Yes']\n"
     ]
    }
   ],
   "source": [
    "for i, feature in enumerate(features_categorical):\n",
    "    uniq = dataset[feature].unique()\n",
    "    print(feature, ':', uniq)"
   ]
  },
  {
   "cell_type": "markdown",
   "metadata": {},
   "source": [
    "Descritize all numeric features with using `KBinsDiscretizer`of `sklearn.preprocessing` library"
   ]
  },
  {
   "cell_type": "code",
   "execution_count": null,
   "metadata": {},
   "outputs": [],
   "source": []
  },
  {
   "cell_type": "code",
   "execution_count": null,
   "metadata": {},
   "outputs": [],
   "source": []
  },
  {
   "cell_type": "markdown",
   "metadata": {},
   "source": [
    "Install SPMF library https://pypi.org/project/spmf/"
   ]
  },
  {
   "cell_type": "code",
   "execution_count": 267,
   "metadata": {},
   "outputs": [
    {
     "name": "stdout",
     "output_type": "stream",
     "text": [
      "Requirement already satisfied: spmf in /anaconda3/lib/python3.7/site-packages (1.3)\n",
      "Note: you may need to restart the kernel to use updated packages.\n"
     ]
    }
   ],
   "source": [
    "#install spmf library\n",
    "!pip install spmf"
   ]
  },
  {
   "cell_type": "markdown",
   "metadata": {},
   "source": [
    "Store the dataframe in a csv file using `to_csv`in this format \n",
    "\n",
    "\n",
    "```\n",
    "0 2 6 15 25\n",
    "0 2 4 8 19\n",
    "0 2 4 8 20\n",
    "```\n"
   ]
  },
  {
   "cell_type": "code",
   "execution_count": null,
   "metadata": {},
   "outputs": [],
   "source": []
  },
  {
   "cell_type": "markdown",
   "metadata": {},
   "source": [
    "from the given website run Apriori algorithm which starts as follows: \n",
    "```\n",
    "spmf = Spmf(\"Apriori\",...\n",
    "```\n"
   ]
  },
  {
   "cell_type": "code",
   "execution_count": 12,
   "metadata": {},
   "outputs": [],
   "source": [
    "#run Apriori algorithm\n"
   ]
  },
  {
   "cell_type": "markdown",
   "metadata": {},
   "source": [
    "Using `sklearn.decompositio` library run the principal component analysis to reduce the dimensio to 2"
   ]
  },
  {
   "cell_type": "code",
   "execution_count": 13,
   "metadata": {},
   "outputs": [],
   "source": [
    "#PCA to 2 dimension\n"
   ]
  },
  {
   "cell_type": "code",
   "execution_count": 326,
   "metadata": {},
   "outputs": [
    {
     "data": {
      "text/html": [
       "<div>\n",
       "<style scoped>\n",
       "    .dataframe tbody tr th:only-of-type {\n",
       "        vertical-align: middle;\n",
       "    }\n",
       "\n",
       "    .dataframe tbody tr th {\n",
       "        vertical-align: top;\n",
       "    }\n",
       "\n",
       "    .dataframe thead th {\n",
       "        text-align: right;\n",
       "    }\n",
       "</style>\n",
       "<table border=\"1\" class=\"dataframe\">\n",
       "  <thead>\n",
       "    <tr style=\"text-align: right;\">\n",
       "      <th></th>\n",
       "      <th>principal component 1</th>\n",
       "      <th>principal component 2</th>\n",
       "    </tr>\n",
       "  </thead>\n",
       "  <tbody>\n",
       "    <tr>\n",
       "      <th>0</th>\n",
       "      <td>-4.222658</td>\n",
       "      <td>-0.123872</td>\n",
       "    </tr>\n",
       "    <tr>\n",
       "      <th>1</th>\n",
       "      <td>-1.552956</td>\n",
       "      <td>-0.243348</td>\n",
       "    </tr>\n",
       "    <tr>\n",
       "      <th>2</th>\n",
       "      <td>-2.866539</td>\n",
       "      <td>1.245562</td>\n",
       "    </tr>\n",
       "    <tr>\n",
       "      <th>3</th>\n",
       "      <td>-2.167359</td>\n",
       "      <td>-0.954746</td>\n",
       "    </tr>\n",
       "    <tr>\n",
       "      <th>4</th>\n",
       "      <td>-1.379794</td>\n",
       "      <td>2.583910</td>\n",
       "    </tr>\n",
       "    <tr>\n",
       "      <th>5</th>\n",
       "      <td>1.762292</td>\n",
       "      <td>3.743966</td>\n",
       "    </tr>\n",
       "    <tr>\n",
       "      <th>6</th>\n",
       "      <td>2.331950</td>\n",
       "      <td>1.582169</td>\n",
       "    </tr>\n",
       "    <tr>\n",
       "      <th>7</th>\n",
       "      <td>-4.222658</td>\n",
       "      <td>-0.123872</td>\n",
       "    </tr>\n",
       "    <tr>\n",
       "      <th>8</th>\n",
       "      <td>3.732666</td>\n",
       "      <td>1.510602</td>\n",
       "    </tr>\n",
       "    <tr>\n",
       "      <th>9</th>\n",
       "      <td>-0.239373</td>\n",
       "      <td>-1.732257</td>\n",
       "    </tr>\n",
       "    <tr>\n",
       "      <th>10</th>\n",
       "      <td>-2.209748</td>\n",
       "      <td>0.501107</td>\n",
       "    </tr>\n",
       "    <tr>\n",
       "      <th>11</th>\n",
       "      <td>-5.094999</td>\n",
       "      <td>-0.750822</td>\n",
       "    </tr>\n",
       "    <tr>\n",
       "      <th>12</th>\n",
       "      <td>5.701936</td>\n",
       "      <td>-0.730189</td>\n",
       "    </tr>\n",
       "    <tr>\n",
       "      <th>13</th>\n",
       "      <td>5.045144</td>\n",
       "      <td>0.014266</td>\n",
       "    </tr>\n",
       "    <tr>\n",
       "      <th>14</th>\n",
       "      <td>2.817936</td>\n",
       "      <td>2.339504</td>\n",
       "    </tr>\n",
       "    <tr>\n",
       "      <th>15</th>\n",
       "      <td>7.759443</td>\n",
       "      <td>-1.546211</td>\n",
       "    </tr>\n",
       "    <tr>\n",
       "      <th>16</th>\n",
       "      <td>-4.437103</td>\n",
       "      <td>-1.487851</td>\n",
       "    </tr>\n",
       "    <tr>\n",
       "      <th>17</th>\n",
       "      <td>7.015519</td>\n",
       "      <td>-2.219098</td>\n",
       "    </tr>\n",
       "    <tr>\n",
       "      <th>18</th>\n",
       "      <td>-2.208643</td>\n",
       "      <td>0.508533</td>\n",
       "    </tr>\n",
       "    <tr>\n",
       "      <th>19</th>\n",
       "      <td>1.419429</td>\n",
       "      <td>2.425924</td>\n",
       "    </tr>\n",
       "    <tr>\n",
       "      <th>20</th>\n",
       "      <td>-3.462203</td>\n",
       "      <td>0.562146</td>\n",
       "    </tr>\n",
       "    <tr>\n",
       "      <th>21</th>\n",
       "      <td>-5.094999</td>\n",
       "      <td>-0.750822</td>\n",
       "    </tr>\n",
       "    <tr>\n",
       "      <th>22</th>\n",
       "      <td>-5.094999</td>\n",
       "      <td>-0.750822</td>\n",
       "    </tr>\n",
       "    <tr>\n",
       "      <th>23</th>\n",
       "      <td>0.761386</td>\n",
       "      <td>-1.151243</td>\n",
       "    </tr>\n",
       "    <tr>\n",
       "      <th>24</th>\n",
       "      <td>0.503447</td>\n",
       "      <td>-1.066796</td>\n",
       "    </tr>\n",
       "    <tr>\n",
       "      <th>25</th>\n",
       "      <td>-1.551852</td>\n",
       "      <td>-0.235922</td>\n",
       "    </tr>\n",
       "    <tr>\n",
       "      <th>26</th>\n",
       "      <td>5.045144</td>\n",
       "      <td>0.014266</td>\n",
       "    </tr>\n",
       "    <tr>\n",
       "      <th>27</th>\n",
       "      <td>-4.223762</td>\n",
       "      <td>-0.131298</td>\n",
       "    </tr>\n",
       "    <tr>\n",
       "      <th>28</th>\n",
       "      <td>5.615907</td>\n",
       "      <td>-2.140105</td>\n",
       "    </tr>\n",
       "    <tr>\n",
       "      <th>29</th>\n",
       "      <td>-1.465823</td>\n",
       "      <td>1.173994</td>\n",
       "    </tr>\n",
       "    <tr>\n",
       "      <th>...</th>\n",
       "      <td>...</td>\n",
       "      <td>...</td>\n",
       "    </tr>\n",
       "    <tr>\n",
       "      <th>7013</th>\n",
       "      <td>3.646637</td>\n",
       "      <td>0.100686</td>\n",
       "    </tr>\n",
       "    <tr>\n",
       "      <th>7014</th>\n",
       "      <td>3.645533</td>\n",
       "      <td>0.093260</td>\n",
       "    </tr>\n",
       "    <tr>\n",
       "      <th>7015</th>\n",
       "      <td>2.007825</td>\n",
       "      <td>0.292109</td>\n",
       "    </tr>\n",
       "    <tr>\n",
       "      <th>7016</th>\n",
       "      <td>-2.865435</td>\n",
       "      <td>1.252988</td>\n",
       "    </tr>\n",
       "    <tr>\n",
       "      <th>7017</th>\n",
       "      <td>-4.437103</td>\n",
       "      <td>-1.487851</td>\n",
       "    </tr>\n",
       "    <tr>\n",
       "      <th>7018</th>\n",
       "      <td>-1.380899</td>\n",
       "      <td>2.576484</td>\n",
       "    </tr>\n",
       "    <tr>\n",
       "      <th>7019</th>\n",
       "      <td>-4.437103</td>\n",
       "      <td>-1.487851</td>\n",
       "    </tr>\n",
       "    <tr>\n",
       "      <th>7020</th>\n",
       "      <td>-5.094999</td>\n",
       "      <td>-0.750822</td>\n",
       "    </tr>\n",
       "    <tr>\n",
       "      <th>7021</th>\n",
       "      <td>-1.466928</td>\n",
       "      <td>1.166568</td>\n",
       "    </tr>\n",
       "    <tr>\n",
       "      <th>7022</th>\n",
       "      <td>7.015519</td>\n",
       "      <td>-2.219098</td>\n",
       "    </tr>\n",
       "    <tr>\n",
       "      <th>7023</th>\n",
       "      <td>6.378570</td>\n",
       "      <td>-1.439235</td>\n",
       "    </tr>\n",
       "    <tr>\n",
       "      <th>7024</th>\n",
       "      <td>2.902713</td>\n",
       "      <td>-0.572202</td>\n",
       "    </tr>\n",
       "    <tr>\n",
       "      <th>7025</th>\n",
       "      <td>1.676263</td>\n",
       "      <td>2.334050</td>\n",
       "    </tr>\n",
       "    <tr>\n",
       "      <th>7026</th>\n",
       "      <td>-3.608255</td>\n",
       "      <td>0.587526</td>\n",
       "    </tr>\n",
       "    <tr>\n",
       "      <th>7027</th>\n",
       "      <td>-0.724107</td>\n",
       "      <td>1.832030</td>\n",
       "    </tr>\n",
       "    <tr>\n",
       "      <th>7028</th>\n",
       "      <td>1.161343</td>\n",
       "      <td>-1.803825</td>\n",
       "    </tr>\n",
       "    <tr>\n",
       "      <th>7029</th>\n",
       "      <td>-3.461099</td>\n",
       "      <td>0.569572</td>\n",
       "    </tr>\n",
       "    <tr>\n",
       "      <th>7030</th>\n",
       "      <td>-5.093895</td>\n",
       "      <td>-0.743396</td>\n",
       "    </tr>\n",
       "    <tr>\n",
       "      <th>7031</th>\n",
       "      <td>0.779020</td>\n",
       "      <td>-1.130687</td>\n",
       "    </tr>\n",
       "    <tr>\n",
       "      <th>7032</th>\n",
       "      <td>-1.105326</td>\n",
       "      <td>2.512593</td>\n",
       "    </tr>\n",
       "    <tr>\n",
       "      <th>7033</th>\n",
       "      <td>0.589475</td>\n",
       "      <td>0.343120</td>\n",
       "    </tr>\n",
       "    <tr>\n",
       "      <th>7034</th>\n",
       "      <td>6.359832</td>\n",
       "      <td>-1.467217</td>\n",
       "    </tr>\n",
       "    <tr>\n",
       "      <th>7035</th>\n",
       "      <td>0.675504</td>\n",
       "      <td>1.753036</td>\n",
       "    </tr>\n",
       "    <tr>\n",
       "      <th>7036</th>\n",
       "      <td>-1.337406</td>\n",
       "      <td>1.128058</td>\n",
       "    </tr>\n",
       "    <tr>\n",
       "      <th>7037</th>\n",
       "      <td>-3.780312</td>\n",
       "      <td>-2.232306</td>\n",
       "    </tr>\n",
       "    <tr>\n",
       "      <th>7038</th>\n",
       "      <td>1.589130</td>\n",
       "      <td>0.916708</td>\n",
       "    </tr>\n",
       "    <tr>\n",
       "      <th>7039</th>\n",
       "      <td>7.016623</td>\n",
       "      <td>-2.211672</td>\n",
       "    </tr>\n",
       "    <tr>\n",
       "      <th>7040</th>\n",
       "      <td>-4.222658</td>\n",
       "      <td>-0.123872</td>\n",
       "    </tr>\n",
       "    <tr>\n",
       "      <th>7041</th>\n",
       "      <td>-1.105326</td>\n",
       "      <td>2.512593</td>\n",
       "    </tr>\n",
       "    <tr>\n",
       "      <th>7042</th>\n",
       "      <td>6.101893</td>\n",
       "      <td>-1.382770</td>\n",
       "    </tr>\n",
       "  </tbody>\n",
       "</table>\n",
       "<p>7043 rows × 2 columns</p>\n",
       "</div>"
      ],
      "text/plain": [
       "      principal component 1  principal component 2\n",
       "0                 -4.222658              -0.123872\n",
       "1                 -1.552956              -0.243348\n",
       "2                 -2.866539               1.245562\n",
       "3                 -2.167359              -0.954746\n",
       "4                 -1.379794               2.583910\n",
       "5                  1.762292               3.743966\n",
       "6                  2.331950               1.582169\n",
       "7                 -4.222658              -0.123872\n",
       "8                  3.732666               1.510602\n",
       "9                 -0.239373              -1.732257\n",
       "10                -2.209748               0.501107\n",
       "11                -5.094999              -0.750822\n",
       "12                 5.701936              -0.730189\n",
       "13                 5.045144               0.014266\n",
       "14                 2.817936               2.339504\n",
       "15                 7.759443              -1.546211\n",
       "16                -4.437103              -1.487851\n",
       "17                 7.015519              -2.219098\n",
       "18                -2.208643               0.508533\n",
       "19                 1.419429               2.425924\n",
       "20                -3.462203               0.562146\n",
       "21                -5.094999              -0.750822\n",
       "22                -5.094999              -0.750822\n",
       "23                 0.761386              -1.151243\n",
       "24                 0.503447              -1.066796\n",
       "25                -1.551852              -0.235922\n",
       "26                 5.045144               0.014266\n",
       "27                -4.223762              -0.131298\n",
       "28                 5.615907              -2.140105\n",
       "29                -1.465823               1.173994\n",
       "...                     ...                    ...\n",
       "7013               3.646637               0.100686\n",
       "7014               3.645533               0.093260\n",
       "7015               2.007825               0.292109\n",
       "7016              -2.865435               1.252988\n",
       "7017              -4.437103              -1.487851\n",
       "7018              -1.380899               2.576484\n",
       "7019              -4.437103              -1.487851\n",
       "7020              -5.094999              -0.750822\n",
       "7021              -1.466928               1.166568\n",
       "7022               7.015519              -2.219098\n",
       "7023               6.378570              -1.439235\n",
       "7024               2.902713              -0.572202\n",
       "7025               1.676263               2.334050\n",
       "7026              -3.608255               0.587526\n",
       "7027              -0.724107               1.832030\n",
       "7028               1.161343              -1.803825\n",
       "7029              -3.461099               0.569572\n",
       "7030              -5.093895              -0.743396\n",
       "7031               0.779020              -1.130687\n",
       "7032              -1.105326               2.512593\n",
       "7033               0.589475               0.343120\n",
       "7034               6.359832              -1.467217\n",
       "7035               0.675504               1.753036\n",
       "7036              -1.337406               1.128058\n",
       "7037              -3.780312              -2.232306\n",
       "7038               1.589130               0.916708\n",
       "7039               7.016623              -2.211672\n",
       "7040              -4.222658              -0.123872\n",
       "7041              -1.105326               2.512593\n",
       "7042               6.101893              -1.382770\n",
       "\n",
       "[7043 rows x 2 columns]"
      ]
     },
     "execution_count": 326,
     "metadata": {},
     "output_type": "execute_result"
    }
   ],
   "source": [
    "principalDf"
   ]
  },
  {
   "cell_type": "code",
   "execution_count": 14,
   "metadata": {},
   "outputs": [],
   "source": [
    "#display the results with scatter\n"
   ]
  },
  {
   "cell_type": "code",
   "execution_count": null,
   "metadata": {},
   "outputs": [],
   "source": []
  },
  {
   "cell_type": "code",
   "execution_count": null,
   "metadata": {},
   "outputs": [],
   "source": []
  }
 ],
 "metadata": {
  "kernelspec": {
   "display_name": "Python 3",
   "language": "python",
   "name": "python3"
  },
  "language_info": {
   "codemirror_mode": {
    "name": "ipython",
    "version": 3
   },
   "file_extension": ".py",
   "mimetype": "text/x-python",
   "name": "python",
   "nbconvert_exporter": "python",
   "pygments_lexer": "ipython3",
   "version": "3.8.3-final"
  }
 },
 "nbformat": 4,
 "nbformat_minor": 2
}