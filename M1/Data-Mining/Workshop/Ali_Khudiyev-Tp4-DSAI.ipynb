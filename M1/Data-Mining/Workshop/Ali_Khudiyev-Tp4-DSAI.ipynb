{
 "cells": [
  {
   "cell_type": "markdown",
   "metadata": {},
   "source": [
    "# TP4: Clustering companies by their daily stock price movements. \n",
    "In this exercise, you'll cluster companies using their daily stock price movements (i.e. the dollar difference between the closing and opening prices for each trading day).  You are given a NumPy array `movements` of daily price movements from 2010 to 2015, where each row corresponds to a company, and each column corresponds to a trading day.\n",
    "\n",
    "Some stocks are more expensive than others.  To account for this, include a `Normalizer` at the beginning of your pipeline.  The Normalizer will separately transform each company's stock price to a relative scale before the clustering begins.\n",
    "\n"
   ]
  },
  {
   "cell_type": "markdown",
   "metadata": {},
   "source": [
    "**Step 1:** Load the data (stocks.csv); put `index_col` equal to 0"
   ]
  },
  {
   "cell_type": "code",
   "execution_count": 1,
   "metadata": {
    "exercise": false
   },
   "outputs": [],
   "source": [
    "import pandas as pd\n",
    "\n",
    "df = pd.read_csv('dataset/stocks.csv', index_col=0)"
   ]
  },
  {
   "cell_type": "markdown",
   "metadata": {},
   "source": [
    "**Step 2:** Inspect the first few rows of the DataFrame `stocks_df` by calling its `head()` function."
   ]
  },
  {
   "cell_type": "code",
   "execution_count": 2,
   "metadata": {},
   "outputs": [
    {
     "output_type": "execute_result",
     "data": {
      "text/plain": [
       "                  2010-01-04  2010-01-05  2010-01-06  2010-01-07  2010-01-08  \\\n",
       "Apple               0.580000   -0.220005   -3.409998   -1.170000    1.680011   \n",
       "AIG                -0.640002   -0.650000   -0.210001   -0.420000    0.710001   \n",
       "Amazon             -2.350006    1.260009   -2.350006   -2.009995    2.960006   \n",
       "American express    0.109997    0.000000    0.260002    0.720002    0.190003   \n",
       "Boeing              0.459999    1.770000    1.549999    2.690003    0.059997   \n",
       "\n",
       "                  2010-01-11  2010-01-12  2010-01-13  2010-01-14  2010-01-15  \\\n",
       "Apple              -2.689994   -1.469994    2.779997   -0.680003   -4.999995   \n",
       "AIG                -0.200001   -1.130001    0.069999   -0.119999   -0.500000   \n",
       "Amazon             -2.309997   -1.640007    1.209999   -1.790001   -2.039994   \n",
       "American express   -0.270001    0.750000    0.300004    0.639999   -0.130001   \n",
       "Boeing             -1.080002    0.360000    0.549999    0.530002   -0.709999   \n",
       "\n",
       "                  ...  2013-10-16  2013-10-17  2013-10-18  2013-10-21  \\\n",
       "Apple             ...    0.320008    4.519997    2.899987    9.590019   \n",
       "AIG               ...    0.919998    0.709999    0.119999   -0.480000   \n",
       "Amazon            ...    2.109985    3.699982    9.570008   -3.450013   \n",
       "American express  ...    0.680001    2.290001    0.409996   -0.069999   \n",
       "Boeing            ...    1.559997    2.480003    0.019997   -1.220001   \n",
       "\n",
       "                  2013-10-22  2013-10-23  2013-10-24  2013-10-25  2013-10-28  \\\n",
       "Apple              -6.540016    5.959976    6.910011   -5.359962    0.840019   \n",
       "AIG                 0.010002   -0.279998   -0.190003   -0.040001   -0.400002   \n",
       "Amazon              4.820008   -4.079986    2.579986    4.790009   -1.760009   \n",
       "American express    0.100006    0.069999    0.130005    1.849999    0.040001   \n",
       "Boeing              0.480003    3.020004   -0.029999    1.940002    1.130005   \n",
       "\n",
       "                  2013-10-29  \n",
       "Apple             -19.589981  \n",
       "AIG                 0.660000  \n",
       "Amazon              3.740021  \n",
       "American express    0.540001  \n",
       "Boeing              0.309998  \n",
       "\n",
       "[5 rows x 963 columns]"
      ],
      "text/html": "<div>\n<style scoped>\n    .dataframe tbody tr th:only-of-type {\n        vertical-align: middle;\n    }\n\n    .dataframe tbody tr th {\n        vertical-align: top;\n    }\n\n    .dataframe thead th {\n        text-align: right;\n    }\n</style>\n<table border=\"1\" class=\"dataframe\">\n  <thead>\n    <tr style=\"text-align: right;\">\n      <th></th>\n      <th>2010-01-04</th>\n      <th>2010-01-05</th>\n      <th>2010-01-06</th>\n      <th>2010-01-07</th>\n      <th>2010-01-08</th>\n      <th>2010-01-11</th>\n      <th>2010-01-12</th>\n      <th>2010-01-13</th>\n      <th>2010-01-14</th>\n      <th>2010-01-15</th>\n      <th>...</th>\n      <th>2013-10-16</th>\n      <th>2013-10-17</th>\n      <th>2013-10-18</th>\n      <th>2013-10-21</th>\n      <th>2013-10-22</th>\n      <th>2013-10-23</th>\n      <th>2013-10-24</th>\n      <th>2013-10-25</th>\n      <th>2013-10-28</th>\n      <th>2013-10-29</th>\n    </tr>\n  </thead>\n  <tbody>\n    <tr>\n      <th>Apple</th>\n      <td>0.580000</td>\n      <td>-0.220005</td>\n      <td>-3.409998</td>\n      <td>-1.170000</td>\n      <td>1.680011</td>\n      <td>-2.689994</td>\n      <td>-1.469994</td>\n      <td>2.779997</td>\n      <td>-0.680003</td>\n      <td>-4.999995</td>\n      <td>...</td>\n      <td>0.320008</td>\n      <td>4.519997</td>\n      <td>2.899987</td>\n      <td>9.590019</td>\n      <td>-6.540016</td>\n      <td>5.959976</td>\n      <td>6.910011</td>\n      <td>-5.359962</td>\n      <td>0.840019</td>\n      <td>-19.589981</td>\n    </tr>\n    <tr>\n      <th>AIG</th>\n      <td>-0.640002</td>\n      <td>-0.650000</td>\n      <td>-0.210001</td>\n      <td>-0.420000</td>\n      <td>0.710001</td>\n      <td>-0.200001</td>\n      <td>-1.130001</td>\n      <td>0.069999</td>\n      <td>-0.119999</td>\n      <td>-0.500000</td>\n      <td>...</td>\n      <td>0.919998</td>\n      <td>0.709999</td>\n      <td>0.119999</td>\n      <td>-0.480000</td>\n      <td>0.010002</td>\n      <td>-0.279998</td>\n      <td>-0.190003</td>\n      <td>-0.040001</td>\n      <td>-0.400002</td>\n      <td>0.660000</td>\n    </tr>\n    <tr>\n      <th>Amazon</th>\n      <td>-2.350006</td>\n      <td>1.260009</td>\n      <td>-2.350006</td>\n      <td>-2.009995</td>\n      <td>2.960006</td>\n      <td>-2.309997</td>\n      <td>-1.640007</td>\n      <td>1.209999</td>\n      <td>-1.790001</td>\n      <td>-2.039994</td>\n      <td>...</td>\n      <td>2.109985</td>\n      <td>3.699982</td>\n      <td>9.570008</td>\n      <td>-3.450013</td>\n      <td>4.820008</td>\n      <td>-4.079986</td>\n      <td>2.579986</td>\n      <td>4.790009</td>\n      <td>-1.760009</td>\n      <td>3.740021</td>\n    </tr>\n    <tr>\n      <th>American express</th>\n      <td>0.109997</td>\n      <td>0.000000</td>\n      <td>0.260002</td>\n      <td>0.720002</td>\n      <td>0.190003</td>\n      <td>-0.270001</td>\n      <td>0.750000</td>\n      <td>0.300004</td>\n      <td>0.639999</td>\n      <td>-0.130001</td>\n      <td>...</td>\n      <td>0.680001</td>\n      <td>2.290001</td>\n      <td>0.409996</td>\n      <td>-0.069999</td>\n      <td>0.100006</td>\n      <td>0.069999</td>\n      <td>0.130005</td>\n      <td>1.849999</td>\n      <td>0.040001</td>\n      <td>0.540001</td>\n    </tr>\n    <tr>\n      <th>Boeing</th>\n      <td>0.459999</td>\n      <td>1.770000</td>\n      <td>1.549999</td>\n      <td>2.690003</td>\n      <td>0.059997</td>\n      <td>-1.080002</td>\n      <td>0.360000</td>\n      <td>0.549999</td>\n      <td>0.530002</td>\n      <td>-0.709999</td>\n      <td>...</td>\n      <td>1.559997</td>\n      <td>2.480003</td>\n      <td>0.019997</td>\n      <td>-1.220001</td>\n      <td>0.480003</td>\n      <td>3.020004</td>\n      <td>-0.029999</td>\n      <td>1.940002</td>\n      <td>1.130005</td>\n      <td>0.309998</td>\n    </tr>\n  </tbody>\n</table>\n<p>5 rows × 963 columns</p>\n</div>"
     },
     "metadata": {},
     "execution_count": 2
    }
   ],
   "source": [
    "df.head()"
   ]
  },
  {
   "cell_type": "markdown",
   "metadata": {},
   "source": [
    "**Step 3:** Extract the stocks `movements` values from the DataFrame and the list of company names "
   ]
  },
  {
   "cell_type": "code",
   "execution_count": 3,
   "metadata": {
    "exercise": false
   },
   "outputs": [
    {
     "output_type": "execute_result",
     "data": {
      "text/plain": [
       "Index(['Apple', 'AIG', 'Amazon', 'American express', 'Boeing',\n",
       "       'Bank of America', 'British American Tobacco', 'Canon', 'Caterpillar',\n",
       "       'Colgate-Palmolive', 'ConocoPhillips', 'Cisco', 'Chevron',\n",
       "       'DuPont de Nemours', 'Dell', 'Ford', 'General Electrics',\n",
       "       'Google/Alphabet', 'Goldman Sachs', 'GlaxoSmithKline', 'Home Depot',\n",
       "       'Honda', 'HP', 'IBM', 'Intel', 'Johnson & Johnson', 'JPMorgan Chase',\n",
       "       'Kimberly-Clark', 'Coca Cola', 'Lookheed Martin', 'MasterCard',\n",
       "       'McDonalds', '3M', 'Microsoft', 'Mitsubishi', 'Navistar',\n",
       "       'Northrop Grumman', 'Novartis', 'Pepsi', 'Pfizer', 'Procter Gamble',\n",
       "       'Philip Morris', 'Royal Dutch Shell', 'SAP', 'Schlumberger', 'Sony',\n",
       "       'Sanofi-Aventis', 'Symantec', 'Toyota', 'Total',\n",
       "       'Taiwan Semiconductor Manufacturing', 'Texas instruments', 'Unilever',\n",
       "       'Valero Energy', 'Walgreen', 'Wells Fargo', 'Wal-Mart', 'Exxon',\n",
       "       'Xerox', 'Yahoo'],\n",
       "      dtype='object')"
      ]
     },
     "metadata": {},
     "execution_count": 3
    }
   ],
   "source": [
    "movements = df.values\n",
    "companies = df.index\n",
    "companies"
   ]
  },
  {
   "cell_type": "markdown",
   "metadata": {},
   "source": [
    "**Step 4:** Make the necessary imports:\n",
    "\n",
    "- `Normalizer` from `sklearn.preprocessing`.\n",
    "- `KMeans` from `sklearn.cluster`.\n",
    "- `make_pipeline` from `sklearn.pipeline`."
   ]
  },
  {
   "cell_type": "code",
   "execution_count": 4,
   "metadata": {},
   "outputs": [],
   "source": [
    "from sklearn.preprocessing import Normalizer\n",
    "from sklearn.cluster import KMeans\n",
    "from sklearn.pipeline import make_pipeline"
   ]
  },
  {
   "cell_type": "markdown",
   "metadata": {},
   "source": [
    "**Step 5:** Create an instance of `KMeans` called `kmeans` with `k` clusters; the range of `k` is [3,15]. Find the inertias for each values of `k`. Plot `inertia` and `k`. Select the best `k` based on inertia values."
   ]
  },
  {
   "cell_type": "code",
   "execution_count": 5,
   "metadata": {},
   "outputs": [
    {
     "output_type": "stream",
     "name": "stdout",
     "text": [
      "3 : 0.7868009495742608\n",
      "4 : 0.8024122150235055\n",
      "5 : 0.7331165507845193\n",
      "6 : 0.6235818374412094\n",
      "7 : 0.2934569796611876\n",
      "8 : 0.18796725418426166\n",
      "9 : 0.16759122607778532\n",
      "10 : 0.15865326028936047\n",
      "11 : 0.0885550843100485\n",
      "12 : 0.1371902582010726\n",
      "13 : 0.16947943050818717\n",
      "14 : 0.09859755097834325\n"
     ]
    },
    {
     "output_type": "display_data",
     "data": {
      "text/plain": "<Figure size 432x288 with 1 Axes>",
      "image/svg+xml": "<?xml version=\"1.0\" encoding=\"utf-8\" standalone=\"no\"?>\n<!DOCTYPE svg PUBLIC \"-//W3C//DTD SVG 1.1//EN\"\n  \"http://www.w3.org/Graphics/SVG/1.1/DTD/svg11.dtd\">\n<!-- Created with matplotlib (https://matplotlib.org/) -->\n<svg height=\"248.518125pt\" version=\"1.1\" viewBox=\"0 0 388.0125 248.518125\" width=\"388.0125pt\" xmlns=\"http://www.w3.org/2000/svg\" xmlns:xlink=\"http://www.w3.org/1999/xlink\">\n <defs>\n  <style type=\"text/css\">\n*{stroke-linecap:butt;stroke-linejoin:round;}\n  </style>\n </defs>\n <g id=\"figure_1\">\n  <g id=\"patch_1\">\n   <path d=\"M 0 248.518125 \nL 388.0125 248.518125 \nL 388.0125 0 \nL 0 0 \nz\n\" style=\"fill:none;\"/>\n  </g>\n  <g id=\"axes_1\">\n   <g id=\"patch_2\">\n    <path d=\"M 46.0125 224.64 \nL 380.8125 224.64 \nL 380.8125 7.2 \nL 46.0125 7.2 \nz\n\" style=\"fill:#ffffff;\"/>\n   </g>\n   <g id=\"matplotlib.axis_1\">\n    <g id=\"xtick_1\">\n     <g id=\"line2d_1\">\n      <defs>\n       <path d=\"M 0 0 \nL 0 3.5 \n\" id=\"m4b1d533921\" style=\"stroke:#000000;stroke-width:0.8;\"/>\n      </defs>\n      <g>\n       <use style=\"stroke:#000000;stroke-width:0.8;\" x=\"88.900103\" xlink:href=\"#m4b1d533921\" y=\"224.64\"/>\n      </g>\n     </g>\n     <g id=\"text_1\">\n      <!-- 4 -->\n      <defs>\n       <path d=\"M 37.796875 64.3125 \nL 12.890625 25.390625 \nL 37.796875 25.390625 \nz\nM 35.203125 72.90625 \nL 47.609375 72.90625 \nL 47.609375 25.390625 \nL 58.015625 25.390625 \nL 58.015625 17.1875 \nL 47.609375 17.1875 \nL 47.609375 0 \nL 37.796875 0 \nL 37.796875 17.1875 \nL 4.890625 17.1875 \nL 4.890625 26.703125 \nz\n\" id=\"DejaVuSans-52\"/>\n      </defs>\n      <g transform=\"translate(85.718853 239.238437)scale(0.1 -0.1)\">\n       <use xlink:href=\"#DejaVuSans-52\"/>\n      </g>\n     </g>\n    </g>\n    <g id=\"xtick_2\">\n     <g id=\"line2d_2\">\n      <g>\n       <use style=\"stroke:#000000;stroke-width:0.8;\" x=\"144.238946\" xlink:href=\"#m4b1d533921\" y=\"224.64\"/>\n      </g>\n     </g>\n     <g id=\"text_2\">\n      <!-- 6 -->\n      <defs>\n       <path d=\"M 33.015625 40.375 \nQ 26.375 40.375 22.484375 35.828125 \nQ 18.609375 31.296875 18.609375 23.390625 \nQ 18.609375 15.53125 22.484375 10.953125 \nQ 26.375 6.390625 33.015625 6.390625 \nQ 39.65625 6.390625 43.53125 10.953125 \nQ 47.40625 15.53125 47.40625 23.390625 \nQ 47.40625 31.296875 43.53125 35.828125 \nQ 39.65625 40.375 33.015625 40.375 \nz\nM 52.59375 71.296875 \nL 52.59375 62.3125 \nQ 48.875 64.0625 45.09375 64.984375 \nQ 41.3125 65.921875 37.59375 65.921875 \nQ 27.828125 65.921875 22.671875 59.328125 \nQ 17.53125 52.734375 16.796875 39.40625 \nQ 19.671875 43.65625 24.015625 45.921875 \nQ 28.375 48.1875 33.59375 48.1875 \nQ 44.578125 48.1875 50.953125 41.515625 \nQ 57.328125 34.859375 57.328125 23.390625 \nQ 57.328125 12.15625 50.6875 5.359375 \nQ 44.046875 -1.421875 33.015625 -1.421875 \nQ 20.359375 -1.421875 13.671875 8.265625 \nQ 6.984375 17.96875 6.984375 36.375 \nQ 6.984375 53.65625 15.1875 63.9375 \nQ 23.390625 74.21875 37.203125 74.21875 \nQ 40.921875 74.21875 44.703125 73.484375 \nQ 48.484375 72.75 52.59375 71.296875 \nz\n\" id=\"DejaVuSans-54\"/>\n      </defs>\n      <g transform=\"translate(141.057696 239.238437)scale(0.1 -0.1)\">\n       <use xlink:href=\"#DejaVuSans-54\"/>\n      </g>\n     </g>\n    </g>\n    <g id=\"xtick_3\">\n     <g id=\"line2d_3\">\n      <g>\n       <use style=\"stroke:#000000;stroke-width:0.8;\" x=\"199.577789\" xlink:href=\"#m4b1d533921\" y=\"224.64\"/>\n      </g>\n     </g>\n     <g id=\"text_3\">\n      <!-- 8 -->\n      <defs>\n       <path d=\"M 31.78125 34.625 \nQ 24.75 34.625 20.71875 30.859375 \nQ 16.703125 27.09375 16.703125 20.515625 \nQ 16.703125 13.921875 20.71875 10.15625 \nQ 24.75 6.390625 31.78125 6.390625 \nQ 38.8125 6.390625 42.859375 10.171875 \nQ 46.921875 13.96875 46.921875 20.515625 \nQ 46.921875 27.09375 42.890625 30.859375 \nQ 38.875 34.625 31.78125 34.625 \nz\nM 21.921875 38.8125 \nQ 15.578125 40.375 12.03125 44.71875 \nQ 8.5 49.078125 8.5 55.328125 \nQ 8.5 64.0625 14.71875 69.140625 \nQ 20.953125 74.21875 31.78125 74.21875 \nQ 42.671875 74.21875 48.875 69.140625 \nQ 55.078125 64.0625 55.078125 55.328125 \nQ 55.078125 49.078125 51.53125 44.71875 \nQ 48 40.375 41.703125 38.8125 \nQ 48.828125 37.15625 52.796875 32.3125 \nQ 56.78125 27.484375 56.78125 20.515625 \nQ 56.78125 9.90625 50.3125 4.234375 \nQ 43.84375 -1.421875 31.78125 -1.421875 \nQ 19.734375 -1.421875 13.25 4.234375 \nQ 6.78125 9.90625 6.78125 20.515625 \nQ 6.78125 27.484375 10.78125 32.3125 \nQ 14.796875 37.15625 21.921875 38.8125 \nz\nM 18.3125 54.390625 \nQ 18.3125 48.734375 21.84375 45.5625 \nQ 25.390625 42.390625 31.78125 42.390625 \nQ 38.140625 42.390625 41.71875 45.5625 \nQ 45.3125 48.734375 45.3125 54.390625 \nQ 45.3125 60.0625 41.71875 63.234375 \nQ 38.140625 66.40625 31.78125 66.40625 \nQ 25.390625 66.40625 21.84375 63.234375 \nQ 18.3125 60.0625 18.3125 54.390625 \nz\n\" id=\"DejaVuSans-56\"/>\n      </defs>\n      <g transform=\"translate(196.396539 239.238437)scale(0.1 -0.1)\">\n       <use xlink:href=\"#DejaVuSans-56\"/>\n      </g>\n     </g>\n    </g>\n    <g id=\"xtick_4\">\n     <g id=\"line2d_4\">\n      <g>\n       <use style=\"stroke:#000000;stroke-width:0.8;\" x=\"254.916632\" xlink:href=\"#m4b1d533921\" y=\"224.64\"/>\n      </g>\n     </g>\n     <g id=\"text_4\">\n      <!-- 10 -->\n      <defs>\n       <path d=\"M 12.40625 8.296875 \nL 28.515625 8.296875 \nL 28.515625 63.921875 \nL 10.984375 60.40625 \nL 10.984375 69.390625 \nL 28.421875 72.90625 \nL 38.28125 72.90625 \nL 38.28125 8.296875 \nL 54.390625 8.296875 \nL 54.390625 0 \nL 12.40625 0 \nz\n\" id=\"DejaVuSans-49\"/>\n       <path d=\"M 31.78125 66.40625 \nQ 24.171875 66.40625 20.328125 58.90625 \nQ 16.5 51.421875 16.5 36.375 \nQ 16.5 21.390625 20.328125 13.890625 \nQ 24.171875 6.390625 31.78125 6.390625 \nQ 39.453125 6.390625 43.28125 13.890625 \nQ 47.125 21.390625 47.125 36.375 \nQ 47.125 51.421875 43.28125 58.90625 \nQ 39.453125 66.40625 31.78125 66.40625 \nz\nM 31.78125 74.21875 \nQ 44.046875 74.21875 50.515625 64.515625 \nQ 56.984375 54.828125 56.984375 36.375 \nQ 56.984375 17.96875 50.515625 8.265625 \nQ 44.046875 -1.421875 31.78125 -1.421875 \nQ 19.53125 -1.421875 13.0625 8.265625 \nQ 6.59375 17.96875 6.59375 36.375 \nQ 6.59375 54.828125 13.0625 64.515625 \nQ 19.53125 74.21875 31.78125 74.21875 \nz\n\" id=\"DejaVuSans-48\"/>\n      </defs>\n      <g transform=\"translate(248.554132 239.238437)scale(0.1 -0.1)\">\n       <use xlink:href=\"#DejaVuSans-49\"/>\n       <use x=\"63.623047\" xlink:href=\"#DejaVuSans-48\"/>\n      </g>\n     </g>\n    </g>\n    <g id=\"xtick_5\">\n     <g id=\"line2d_5\">\n      <g>\n       <use style=\"stroke:#000000;stroke-width:0.8;\" x=\"310.255475\" xlink:href=\"#m4b1d533921\" y=\"224.64\"/>\n      </g>\n     </g>\n     <g id=\"text_5\">\n      <!-- 12 -->\n      <defs>\n       <path d=\"M 19.1875 8.296875 \nL 53.609375 8.296875 \nL 53.609375 0 \nL 7.328125 0 \nL 7.328125 8.296875 \nQ 12.9375 14.109375 22.625 23.890625 \nQ 32.328125 33.6875 34.8125 36.53125 \nQ 39.546875 41.84375 41.421875 45.53125 \nQ 43.3125 49.21875 43.3125 52.78125 \nQ 43.3125 58.59375 39.234375 62.25 \nQ 35.15625 65.921875 28.609375 65.921875 \nQ 23.96875 65.921875 18.8125 64.3125 \nQ 13.671875 62.703125 7.8125 59.421875 \nL 7.8125 69.390625 \nQ 13.765625 71.78125 18.9375 73 \nQ 24.125 74.21875 28.421875 74.21875 \nQ 39.75 74.21875 46.484375 68.546875 \nQ 53.21875 62.890625 53.21875 53.421875 \nQ 53.21875 48.921875 51.53125 44.890625 \nQ 49.859375 40.875 45.40625 35.40625 \nQ 44.1875 33.984375 37.640625 27.21875 \nQ 31.109375 20.453125 19.1875 8.296875 \nz\n\" id=\"DejaVuSans-50\"/>\n      </defs>\n      <g transform=\"translate(303.892975 239.238437)scale(0.1 -0.1)\">\n       <use xlink:href=\"#DejaVuSans-49\"/>\n       <use x=\"63.623047\" xlink:href=\"#DejaVuSans-50\"/>\n      </g>\n     </g>\n    </g>\n    <g id=\"xtick_6\">\n     <g id=\"line2d_6\">\n      <g>\n       <use style=\"stroke:#000000;stroke-width:0.8;\" x=\"365.594318\" xlink:href=\"#m4b1d533921\" y=\"224.64\"/>\n      </g>\n     </g>\n     <g id=\"text_6\">\n      <!-- 14 -->\n      <g transform=\"translate(359.231818 239.238437)scale(0.1 -0.1)\">\n       <use xlink:href=\"#DejaVuSans-49\"/>\n       <use x=\"63.623047\" xlink:href=\"#DejaVuSans-52\"/>\n      </g>\n     </g>\n    </g>\n   </g>\n   <g id=\"matplotlib.axis_2\">\n    <g id=\"ytick_1\">\n     <g id=\"line2d_7\">\n      <defs>\n       <path d=\"M 0 0 \nL -3.5 0 \n\" id=\"m6ea9f1c4c7\" style=\"stroke:#000000;stroke-width:0.8;\"/>\n      </defs>\n      <g>\n       <use style=\"stroke:#000000;stroke-width:0.8;\" x=\"46.0125\" xlink:href=\"#m6ea9f1c4c7\" y=\"198.835066\"/>\n      </g>\n     </g>\n     <g id=\"text_7\">\n      <!-- 10000 -->\n      <g transform=\"translate(7.2 202.634285)scale(0.1 -0.1)\">\n       <use xlink:href=\"#DejaVuSans-49\"/>\n       <use x=\"63.623047\" xlink:href=\"#DejaVuSans-48\"/>\n       <use x=\"127.246094\" xlink:href=\"#DejaVuSans-48\"/>\n       <use x=\"190.869141\" xlink:href=\"#DejaVuSans-48\"/>\n       <use x=\"254.492188\" xlink:href=\"#DejaVuSans-48\"/>\n      </g>\n     </g>\n    </g>\n    <g id=\"ytick_2\">\n     <g id=\"line2d_8\">\n      <g>\n       <use style=\"stroke:#000000;stroke-width:0.8;\" x=\"46.0125\" xlink:href=\"#m6ea9f1c4c7\" y=\"154.945829\"/>\n      </g>\n     </g>\n     <g id=\"text_8\">\n      <!-- 20000 -->\n      <g transform=\"translate(7.2 158.745048)scale(0.1 -0.1)\">\n       <use xlink:href=\"#DejaVuSans-50\"/>\n       <use x=\"63.623047\" xlink:href=\"#DejaVuSans-48\"/>\n       <use x=\"127.246094\" xlink:href=\"#DejaVuSans-48\"/>\n       <use x=\"190.869141\" xlink:href=\"#DejaVuSans-48\"/>\n       <use x=\"254.492188\" xlink:href=\"#DejaVuSans-48\"/>\n      </g>\n     </g>\n    </g>\n    <g id=\"ytick_3\">\n     <g id=\"line2d_9\">\n      <g>\n       <use style=\"stroke:#000000;stroke-width:0.8;\" x=\"46.0125\" xlink:href=\"#m6ea9f1c4c7\" y=\"111.056591\"/>\n      </g>\n     </g>\n     <g id=\"text_9\">\n      <!-- 30000 -->\n      <defs>\n       <path d=\"M 40.578125 39.3125 \nQ 47.65625 37.796875 51.625 33 \nQ 55.609375 28.21875 55.609375 21.1875 \nQ 55.609375 10.40625 48.1875 4.484375 \nQ 40.765625 -1.421875 27.09375 -1.421875 \nQ 22.515625 -1.421875 17.65625 -0.515625 \nQ 12.796875 0.390625 7.625 2.203125 \nL 7.625 11.71875 \nQ 11.71875 9.328125 16.59375 8.109375 \nQ 21.484375 6.890625 26.8125 6.890625 \nQ 36.078125 6.890625 40.9375 10.546875 \nQ 45.796875 14.203125 45.796875 21.1875 \nQ 45.796875 27.640625 41.28125 31.265625 \nQ 36.765625 34.90625 28.71875 34.90625 \nL 20.21875 34.90625 \nL 20.21875 43.015625 \nL 29.109375 43.015625 \nQ 36.375 43.015625 40.234375 45.921875 \nQ 44.09375 48.828125 44.09375 54.296875 \nQ 44.09375 59.90625 40.109375 62.90625 \nQ 36.140625 65.921875 28.71875 65.921875 \nQ 24.65625 65.921875 20.015625 65.03125 \nQ 15.375 64.15625 9.8125 62.3125 \nL 9.8125 71.09375 \nQ 15.4375 72.65625 20.34375 73.4375 \nQ 25.25 74.21875 29.59375 74.21875 \nQ 40.828125 74.21875 47.359375 69.109375 \nQ 53.90625 64.015625 53.90625 55.328125 \nQ 53.90625 49.265625 50.4375 45.09375 \nQ 46.96875 40.921875 40.578125 39.3125 \nz\n\" id=\"DejaVuSans-51\"/>\n      </defs>\n      <g transform=\"translate(7.2 114.85581)scale(0.1 -0.1)\">\n       <use xlink:href=\"#DejaVuSans-51\"/>\n       <use x=\"63.623047\" xlink:href=\"#DejaVuSans-48\"/>\n       <use x=\"127.246094\" xlink:href=\"#DejaVuSans-48\"/>\n       <use x=\"190.869141\" xlink:href=\"#DejaVuSans-48\"/>\n       <use x=\"254.492188\" xlink:href=\"#DejaVuSans-48\"/>\n      </g>\n     </g>\n    </g>\n    <g id=\"ytick_4\">\n     <g id=\"line2d_10\">\n      <g>\n       <use style=\"stroke:#000000;stroke-width:0.8;\" x=\"46.0125\" xlink:href=\"#m6ea9f1c4c7\" y=\"67.167354\"/>\n      </g>\n     </g>\n     <g id=\"text_10\">\n      <!-- 40000 -->\n      <g transform=\"translate(7.2 70.966573)scale(0.1 -0.1)\">\n       <use xlink:href=\"#DejaVuSans-52\"/>\n       <use x=\"63.623047\" xlink:href=\"#DejaVuSans-48\"/>\n       <use x=\"127.246094\" xlink:href=\"#DejaVuSans-48\"/>\n       <use x=\"190.869141\" xlink:href=\"#DejaVuSans-48\"/>\n       <use x=\"254.492188\" xlink:href=\"#DejaVuSans-48\"/>\n      </g>\n     </g>\n    </g>\n    <g id=\"ytick_5\">\n     <g id=\"line2d_11\">\n      <g>\n       <use style=\"stroke:#000000;stroke-width:0.8;\" x=\"46.0125\" xlink:href=\"#m6ea9f1c4c7\" y=\"23.278117\"/>\n      </g>\n     </g>\n     <g id=\"text_11\">\n      <!-- 50000 -->\n      <defs>\n       <path d=\"M 10.796875 72.90625 \nL 49.515625 72.90625 \nL 49.515625 64.59375 \nL 19.828125 64.59375 \nL 19.828125 46.734375 \nQ 21.96875 47.46875 24.109375 47.828125 \nQ 26.265625 48.1875 28.421875 48.1875 \nQ 40.625 48.1875 47.75 41.5 \nQ 54.890625 34.8125 54.890625 23.390625 \nQ 54.890625 11.625 47.5625 5.09375 \nQ 40.234375 -1.421875 26.90625 -1.421875 \nQ 22.3125 -1.421875 17.546875 -0.640625 \nQ 12.796875 0.140625 7.71875 1.703125 \nL 7.71875 11.625 \nQ 12.109375 9.234375 16.796875 8.0625 \nQ 21.484375 6.890625 26.703125 6.890625 \nQ 35.15625 6.890625 40.078125 11.328125 \nQ 45.015625 15.765625 45.015625 23.390625 \nQ 45.015625 31 40.078125 35.4375 \nQ 35.15625 39.890625 26.703125 39.890625 \nQ 22.75 39.890625 18.8125 39.015625 \nQ 14.890625 38.140625 10.796875 36.28125 \nz\n\" id=\"DejaVuSans-53\"/>\n      </defs>\n      <g transform=\"translate(7.2 27.077335)scale(0.1 -0.1)\">\n       <use xlink:href=\"#DejaVuSans-53\"/>\n       <use x=\"63.623047\" xlink:href=\"#DejaVuSans-48\"/>\n       <use x=\"127.246094\" xlink:href=\"#DejaVuSans-48\"/>\n       <use x=\"190.869141\" xlink:href=\"#DejaVuSans-48\"/>\n       <use x=\"254.492188\" xlink:href=\"#DejaVuSans-48\"/>\n      </g>\n     </g>\n    </g>\n   </g>\n   <g id=\"line2d_12\">\n    <path clip-path=\"url(#pf4ea0cae96)\" d=\"M 61.230682 17.083636 \nL 88.900103 124.217472 \nL 116.569525 168.451601 \nL 144.238946 185.200699 \nL 171.908368 194.113351 \nL 199.577789 199.405876 \nL 227.247211 203.328672 \nL 254.916632 205.344302 \nL 282.586054 208.420753 \nL 310.255475 211.022755 \nL 337.924897 212.526369 \nL 365.594318 214.756364 \n\" style=\"fill:none;stroke:#1f77b4;stroke-linecap:square;stroke-width:1.5;\"/>\n    <defs>\n     <path d=\"M 0 1.5 \nC 0.397805 1.5 0.77937 1.341951 1.06066 1.06066 \nC 1.341951 0.77937 1.5 0.397805 1.5 0 \nC 1.5 -0.397805 1.341951 -0.77937 1.06066 -1.06066 \nC 0.77937 -1.341951 0.397805 -1.5 0 -1.5 \nC -0.397805 -1.5 -0.77937 -1.341951 -1.06066 -1.06066 \nC -1.341951 -0.77937 -1.5 -0.397805 -1.5 0 \nC -1.5 0.397805 -1.341951 0.77937 -1.06066 1.06066 \nC -0.77937 1.341951 -0.397805 1.5 0 1.5 \nz\n\" id=\"m14da617e59\" style=\"stroke:#1f77b4;\"/>\n    </defs>\n    <g clip-path=\"url(#pf4ea0cae96)\">\n     <use style=\"fill:#1f77b4;stroke:#1f77b4;\" x=\"61.230682\" xlink:href=\"#m14da617e59\" y=\"17.083636\"/>\n     <use style=\"fill:#1f77b4;stroke:#1f77b4;\" x=\"88.900103\" xlink:href=\"#m14da617e59\" y=\"124.217472\"/>\n     <use style=\"fill:#1f77b4;stroke:#1f77b4;\" x=\"116.569525\" xlink:href=\"#m14da617e59\" y=\"168.451601\"/>\n     <use style=\"fill:#1f77b4;stroke:#1f77b4;\" x=\"144.238946\" xlink:href=\"#m14da617e59\" y=\"185.200699\"/>\n     <use style=\"fill:#1f77b4;stroke:#1f77b4;\" x=\"171.908368\" xlink:href=\"#m14da617e59\" y=\"194.113351\"/>\n     <use style=\"fill:#1f77b4;stroke:#1f77b4;\" x=\"199.577789\" xlink:href=\"#m14da617e59\" y=\"199.405876\"/>\n     <use style=\"fill:#1f77b4;stroke:#1f77b4;\" x=\"227.247211\" xlink:href=\"#m14da617e59\" y=\"203.328672\"/>\n     <use style=\"fill:#1f77b4;stroke:#1f77b4;\" x=\"254.916632\" xlink:href=\"#m14da617e59\" y=\"205.344302\"/>\n     <use style=\"fill:#1f77b4;stroke:#1f77b4;\" x=\"282.586054\" xlink:href=\"#m14da617e59\" y=\"208.420753\"/>\n     <use style=\"fill:#1f77b4;stroke:#1f77b4;\" x=\"310.255475\" xlink:href=\"#m14da617e59\" y=\"211.022755\"/>\n     <use style=\"fill:#1f77b4;stroke:#1f77b4;\" x=\"337.924897\" xlink:href=\"#m14da617e59\" y=\"212.526369\"/>\n     <use style=\"fill:#1f77b4;stroke:#1f77b4;\" x=\"365.594318\" xlink:href=\"#m14da617e59\" y=\"214.756364\"/>\n    </g>\n   </g>\n   <g id=\"patch_3\">\n    <path d=\"M 46.0125 224.64 \nL 46.0125 7.2 \n\" style=\"fill:none;stroke:#000000;stroke-linecap:square;stroke-linejoin:miter;stroke-width:0.8;\"/>\n   </g>\n   <g id=\"patch_4\">\n    <path d=\"M 380.8125 224.64 \nL 380.8125 7.2 \n\" style=\"fill:none;stroke:#000000;stroke-linecap:square;stroke-linejoin:miter;stroke-width:0.8;\"/>\n   </g>\n   <g id=\"patch_5\">\n    <path d=\"M 46.0125 224.64 \nL 380.8125 224.64 \n\" style=\"fill:none;stroke:#000000;stroke-linecap:square;stroke-linejoin:miter;stroke-width:0.8;\"/>\n   </g>\n   <g id=\"patch_6\">\n    <path d=\"M 46.0125 7.2 \nL 380.8125 7.2 \n\" style=\"fill:none;stroke:#000000;stroke-linecap:square;stroke-linejoin:miter;stroke-width:0.8;\"/>\n   </g>\n  </g>\n </g>\n <defs>\n  <clipPath id=\"pf4ea0cae96\">\n   <rect height=\"217.44\" width=\"334.8\" x=\"46.0125\" y=\"7.2\"/>\n  </clipPath>\n </defs>\n</svg>\n",
      "image/png": "[encoded data removed]"
     },
     "metadata": {
      "needs_background": "light"
     }
    }
   ],
   "source": [
    "import matplotlib.pyplot as plt\n",
    "from sklearn.metrics import silhouette_score\n",
    "\n",
    "inertias = []\n",
    "for k in range(3,15):\n",
    "    kmeans = KMeans(n_clusters=k)\n",
    "    kmeans.fit(movements)\n",
    "    inertias.append(kmeans.inertia_)\n",
    "    print(k, ':', silhouette_score(movements, kmeans.predict(movements)))\n",
    "\n",
    "plt.plot(range(3,15), inertias, '.-');"
   ]
  },
  {
   "cell_type": "markdown",
   "metadata": {},
   "source": [
    "**Step 6:**  Create a `KMeans` model using the selected `k`. Get the labels. What do you observe?"
   ]
  },
  {
   "cell_type": "code",
   "execution_count": 6,
   "metadata": {},
   "outputs": [],
   "source": [
    "kmeans = KMeans(n_clusters=6)\n",
    "labels = kmeans.fit_predict(movements)"
   ]
  },
  {
   "cell_type": "markdown",
   "metadata": {},
   "source": [
    "**Step 7:**  Create an instance of `Normalizer`. Using make_pipeline(), create a pipeline called pipeline that chains normalizer and kmeans."
   ]
  },
  {
   "cell_type": "code",
   "execution_count": 7,
   "metadata": {},
   "outputs": [],
   "source": [
    "normalizer = Normalizer()\n",
    "pipeline = make_pipeline(normalizer, kmeans)"
   ]
  },
  {
   "cell_type": "markdown",
   "metadata": {},
   "source": [
    "**Step 8:** Fit the pipeline to the movements array."
   ]
  },
  {
   "cell_type": "code",
   "execution_count": 8,
   "metadata": {},
   "outputs": [
    {
     "output_type": "execute_result",
     "data": {
      "text/plain": [
       "Pipeline(steps=[('normalizer', Normalizer()), ('kmeans', KMeans(n_clusters=6))])"
      ]
     },
     "metadata": {},
     "execution_count": 8
    }
   ],
   "source": [
    "pipeline.fit(movements)"
   ]
  },
  {
   "cell_type": "markdown",
   "metadata": {},
   "source": [
    "**Step 9:** Use the .predict() method of the pipeline to predict the labels for movements."
   ]
  },
  {
   "cell_type": "code",
   "execution_count": 9,
   "metadata": {},
   "outputs": [],
   "source": [
    "labels = pipeline.predict(movements)"
   ]
  },
  {
   "cell_type": "markdown",
   "metadata": {},
   "source": [
    "**Step 10:** Align the cluster labels with the list of company names `companies` by creating a DataFrame `df` with `labels` and `companies` as columns."
   ]
  },
  {
   "cell_type": "code",
   "execution_count": 10,
   "metadata": {},
   "outputs": [],
   "source": [
    "df_ = pd.DataFrame({'companies': companies, 'labels': labels})"
   ]
  },
  {
   "cell_type": "markdown",
   "metadata": {},
   "source": [
    "**Step 11:** Display the DataFrame, sorted by cluster label.  To do this, use the `.sort_values()` method of `df` to sort the DataFrame by the `'labels'` column."
   ]
  },
  {
   "cell_type": "code",
   "execution_count": 11,
   "metadata": {},
   "outputs": [
    {
     "output_type": "execute_result",
     "data": {
      "text/plain": [
       "                             companies  labels\n",
       "1                                  AIG       0\n",
       "55                         Wells Fargo       0\n",
       "3                     American express       0\n",
       "5                      Bank of America       0\n",
       "30                          MasterCard       0\n",
       "26                      JPMorgan Chase       0\n",
       "20                          Home Depot       0\n",
       "18                       Goldman Sachs       0\n",
       "17                     Google/Alphabet       0\n",
       "0                                Apple       1\n",
       "51                   Texas instruments       1\n",
       "50  Taiwan Semiconductor Manufacturing       1\n",
       "47                            Symantec       1\n",
       "35                            Navistar       1\n",
       "33                           Microsoft       1\n",
       "24                               Intel       1\n",
       "59                               Yahoo       1\n",
       "14                                Dell       1\n",
       "2                               Amazon       1\n",
       "11                               Cisco       1\n",
       "38                               Pepsi       2\n",
       "56                            Wal-Mart       2\n",
       "41                       Philip Morris       2\n",
       "25                   Johnson & Johnson       2\n",
       "27                      Kimberly-Clark       2\n",
       "28                           Coca Cola       2\n",
       "40                      Procter Gamble       2\n",
       "31                           McDonalds       2\n",
       "9                    Colgate-Palmolive       2\n",
       "48                              Toyota       3\n",
       "7                                Canon       3\n",
       "45                                Sony       3\n",
       "34                          Mitsubishi       3\n",
       "15                                Ford       3\n",
       "58                               Xerox       3\n",
       "21                               Honda       3\n",
       "22                                  HP       3\n",
       "29                     Lookheed Martin       4\n",
       "36                    Northrop Grumman       4\n",
       "54                            Walgreen       4\n",
       "4                               Boeing       4\n",
       "57                               Exxon       5\n",
       "19                     GlaxoSmithKline       5\n",
       "13                   DuPont de Nemours       5\n",
       "53                       Valero Energy       5\n",
       "52                            Unilever       5\n",
       "6             British American Tobacco       5\n",
       "49                               Total       5\n",
       "10                      ConocoPhillips       5\n",
       "23                                 IBM       5\n",
       "44                        Schlumberger       5\n",
       "43                                 SAP       5\n",
       "42                   Royal Dutch Shell       5\n",
       "12                             Chevron       5\n",
       "39                              Pfizer       5\n",
       "16                   General Electrics       5\n",
       "37                            Novartis       5\n",
       "8                          Caterpillar       5\n",
       "32                                  3M       5\n",
       "46                      Sanofi-Aventis       5"
      ],
      "text/html": "<div>\n<style scoped>\n    .dataframe tbody tr th:only-of-type {\n        vertical-align: middle;\n    }\n\n    .dataframe tbody tr th {\n        vertical-align: top;\n    }\n\n    .dataframe thead th {\n        text-align: right;\n    }\n</style>\n<table border=\"1\" class=\"dataframe\">\n  <thead>\n    <tr style=\"text-align: right;\">\n      <th></th>\n      <th>companies</th>\n      <th>labels</th>\n    </tr>\n  </thead>\n  <tbody>\n    <tr>\n      <th>1</th>\n      <td>AIG</td>\n      <td>0</td>\n    </tr>\n    <tr>\n      <th>55</th>\n      <td>Wells Fargo</td>\n      <td>0</td>\n    </tr>\n    <tr>\n      <th>3</th>\n      <td>American express</td>\n      <td>0</td>\n    </tr>\n    <tr>\n      <th>5</th>\n      <td>Bank of America</td>\n      <td>0</td>\n    </tr>\n    <tr>\n      <th>30</th>\n      <td>MasterCard</td>\n      <td>0</td>\n    </tr>\n    <tr>\n      <th>26</th>\n      <td>JPMorgan Chase</td>\n      <td>0</td>\n    </tr>\n    <tr>\n      <th>20</th>\n      <td>Home Depot</td>\n      <td>0</td>\n    </tr>\n    <tr>\n      <th>18</th>\n      <td>Goldman Sachs</td>\n      <td>0</td>\n    </tr>\n    <tr>\n      <th>17</th>\n      <td>Google/Alphabet</td>\n      <td>0</td>\n    </tr>\n    <tr>\n      <th>0</th>\n      <td>Apple</td>\n      <td>1</td>\n    </tr>\n    <tr>\n      <th>51</th>\n      <td>Texas instruments</td>\n      <td>1</td>\n    </tr>\n    <tr>\n      <th>50</th>\n      <td>Taiwan Semiconductor Manufacturing</td>\n      <td>1</td>\n    </tr>\n    <tr>\n      <th>47</th>\n      <td>Symantec</td>\n      <td>1</td>\n    </tr>\n    <tr>\n      <th>35</th>\n      <td>Navistar</td>\n      <td>1</td>\n    </tr>\n    <tr>\n      <th>33</th>\n      <td>Microsoft</td>\n      <td>1</td>\n    </tr>\n    <tr>\n      <th>24</th>\n      <td>Intel</td>\n      <td>1</td>\n    </tr>\n    <tr>\n      <th>59</th>\n      <td>Yahoo</td>\n      <td>1</td>\n    </tr>\n    <tr>\n      <th>14</th>\n      <td>Dell</td>\n      <td>1</td>\n    </tr>\n    <tr>\n      <th>2</th>\n      <td>Amazon</td>\n      <td>1</td>\n    </tr>\n    <tr>\n      <th>11</th>\n      <td>Cisco</td>\n      <td>1</td>\n    </tr>\n    <tr>\n      <th>38</th>\n      <td>Pepsi</td>\n      <td>2</td>\n    </tr>\n    <tr>\n      <th>56</th>\n      <td>Wal-Mart</td>\n      <td>2</td>\n    </tr>\n    <tr>\n      <th>41</th>\n      <td>Philip Morris</td>\n      <td>2</td>\n    </tr>\n    <tr>\n      <th>25</th>\n      <td>Johnson &amp; Johnson</td>\n      <td>2</td>\n    </tr>\n    <tr>\n      <th>27</th>\n      <td>Kimberly-Clark</td>\n      <td>2</td>\n    </tr>\n    <tr>\n      <th>28</th>\n      <td>Coca Cola</td>\n      <td>2</td>\n    </tr>\n    <tr>\n      <th>40</th>\n      <td>Procter Gamble</td>\n      <td>2</td>\n    </tr>\n    <tr>\n      <th>31</th>\n      <td>McDonalds</td>\n      <td>2</td>\n    </tr>\n    <tr>\n      <th>9</th>\n      <td>Colgate-Palmolive</td>\n      <td>2</td>\n    </tr>\n    <tr>\n      <th>48</th>\n      <td>Toyota</td>\n      <td>3</td>\n    </tr>\n    <tr>\n      <th>7</th>\n      <td>Canon</td>\n      <td>3</td>\n    </tr>\n    <tr>\n      <th>45</th>\n      <td>Sony</td>\n      <td>3</td>\n    </tr>\n    <tr>\n      <th>34</th>\n      <td>Mitsubishi</td>\n      <td>3</td>\n    </tr>\n    <tr>\n      <th>15</th>\n      <td>Ford</td>\n      <td>3</td>\n    </tr>\n    <tr>\n      <th>58</th>\n      <td>Xerox</td>\n      <td>3</td>\n    </tr>\n    <tr>\n      <th>21</th>\n      <td>Honda</td>\n      <td>3</td>\n    </tr>\n    <tr>\n      <th>22</th>\n      <td>HP</td>\n      <td>3</td>\n    </tr>\n    <tr>\n      <th>29</th>\n      <td>Lookheed Martin</td>\n      <td>4</td>\n    </tr>\n    <tr>\n      <th>36</th>\n      <td>Northrop Grumman</td>\n      <td>4</td>\n    </tr>\n    <tr>\n      <th>54</th>\n      <td>Walgreen</td>\n      <td>4</td>\n    </tr>\n    <tr>\n      <th>4</th>\n      <td>Boeing</td>\n      <td>4</td>\n    </tr>\n    <tr>\n      <th>57</th>\n      <td>Exxon</td>\n      <td>5</td>\n    </tr>\n    <tr>\n      <th>19</th>\n      <td>GlaxoSmithKline</td>\n      <td>5</td>\n    </tr>\n    <tr>\n      <th>13</th>\n      <td>DuPont de Nemours</td>\n      <td>5</td>\n    </tr>\n    <tr>\n      <th>53</th>\n      <td>Valero Energy</td>\n      <td>5</td>\n    </tr>\n    <tr>\n      <th>52</th>\n      <td>Unilever</td>\n      <td>5</td>\n    </tr>\n    <tr>\n      <th>6</th>\n      <td>British American Tobacco</td>\n      <td>5</td>\n    </tr>\n    <tr>\n      <th>49</th>\n      <td>Total</td>\n      <td>5</td>\n    </tr>\n    <tr>\n      <th>10</th>\n      <td>ConocoPhillips</td>\n      <td>5</td>\n    </tr>\n    <tr>\n      <th>23</th>\n      <td>IBM</td>\n      <td>5</td>\n    </tr>\n    <tr>\n      <th>44</th>\n      <td>Schlumberger</td>\n      <td>5</td>\n    </tr>\n    <tr>\n      <th>43</th>\n      <td>SAP</td>\n      <td>5</td>\n    </tr>\n    <tr>\n      <th>42</th>\n      <td>Royal Dutch Shell</td>\n      <td>5</td>\n    </tr>\n    <tr>\n      <th>12</th>\n      <td>Chevron</td>\n      <td>5</td>\n    </tr>\n    <tr>\n      <th>39</th>\n      <td>Pfizer</td>\n      <td>5</td>\n    </tr>\n    <tr>\n      <th>16</th>\n      <td>General Electrics</td>\n      <td>5</td>\n    </tr>\n    <tr>\n      <th>37</th>\n      <td>Novartis</td>\n      <td>5</td>\n    </tr>\n    <tr>\n      <th>8</th>\n      <td>Caterpillar</td>\n      <td>5</td>\n    </tr>\n    <tr>\n      <th>32</th>\n      <td>3M</td>\n      <td>5</td>\n    </tr>\n    <tr>\n      <th>46</th>\n      <td>Sanofi-Aventis</td>\n      <td>5</td>\n    </tr>\n  </tbody>\n</table>\n</div>"
     },
     "metadata": {},
     "execution_count": 11
    }
   ],
   "source": [
    "df_.sort_values('labels')"
   ]
  }
 ],
 "metadata": {
  "anaconda-cloud": {},
  "kernelspec": {
   "name": "python383jvsc74a57bd0e134e05457d34029b6460cd73bbf1ed73f339b5b6d98c95be70b69eba114fe95",
   "display_name": "Python 3.8.3 64-bit ('base': conda)"
  },
  "language_info": {
   "codemirror_mode": {
    "name": "ipython",
    "version": 3
   },
   "file_extension": ".py",
   "mimetype": "text/x-python",
   "name": "python",
   "nbconvert_exporter": "python",
   "pygments_lexer": "ipython3",
   "version": "3.8.3-final"
  }
 },
 "nbformat": 4,
 "nbformat_minor": 2
}