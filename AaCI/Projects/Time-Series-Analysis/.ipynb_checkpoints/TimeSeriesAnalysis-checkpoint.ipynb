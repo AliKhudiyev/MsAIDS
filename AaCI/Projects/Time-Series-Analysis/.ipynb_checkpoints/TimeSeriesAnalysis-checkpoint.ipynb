{
 "cells": [
  {
   "cell_type": "code",
   "execution_count": 1,
   "metadata": {},
   "outputs": [],
   "source": [
    "import numpy as np\n",
    "import matplotlib.pyplot as plt\n",
    "import seaborn as sb\n",
    "import pandas as pd\n",
    "import random\n",
    "\n",
    "from sklearn.preprocessing import StandardScaler, OneHotEncoder\n",
    "from sklearn.model_selection import train_test_split\n",
    "import sklearn.metrics\n",
    "from sklearn.utils import shuffle"
   ]
  },
  {
   "cell_type": "markdown",
   "metadata": {},
   "source": [
    "# 1. Preprocessing the data\n",
    "## 1.1 Loading the data"
   ]
  },
  {
   "cell_type": "code",
   "execution_count": 2,
   "metadata": {},
   "outputs": [
    {
     "name": "stdout",
     "output_type": "stream",
     "text": [
      "(26999, 10) (26999, 10)\n"
     ]
    },
    {
     "data": {
      "text/html": [
       "<div>\n",
       "<style scoped>\n",
       "    .dataframe tbody tr th:only-of-type {\n",
       "        vertical-align: middle;\n",
       "    }\n",
       "\n",
       "    .dataframe tbody tr th {\n",
       "        vertical-align: top;\n",
       "    }\n",
       "\n",
       "    .dataframe thead th {\n",
       "        text-align: right;\n",
       "    }\n",
       "</style>\n",
       "<table border=\"1\" class=\"dataframe\">\n",
       "  <thead>\n",
       "    <tr style=\"text-align: right;\">\n",
       "      <th></th>\n",
       "      <th>timestamp</th>\n",
       "      <th>P-PDG</th>\n",
       "      <th>P-TPT</th>\n",
       "      <th>T-TPT</th>\n",
       "      <th>P-MON-CKP</th>\n",
       "      <th>T-JUS-CKP</th>\n",
       "      <th>P-JUS-CKGL</th>\n",
       "      <th>T-JUS-CKGL</th>\n",
       "      <th>QGL</th>\n",
       "      <th>class</th>\n",
       "    </tr>\n",
       "  </thead>\n",
       "  <tbody>\n",
       "    <tr>\n",
       "      <th>0</th>\n",
       "      <td>2018-05-17 22:56:06.000000</td>\n",
       "      <td>27897490.0</td>\n",
       "      <td>19824230.0</td>\n",
       "      <td>125.6859</td>\n",
       "      <td>4059666.0</td>\n",
       "      <td>97.55283</td>\n",
       "      <td>NaN</td>\n",
       "      <td>NaN</td>\n",
       "      <td>NaN</td>\n",
       "      <td>0</td>\n",
       "    </tr>\n",
       "    <tr>\n",
       "      <th>1</th>\n",
       "      <td>2018-05-17 22:56:07.000000</td>\n",
       "      <td>27897450.0</td>\n",
       "      <td>19824230.0</td>\n",
       "      <td>125.6859</td>\n",
       "      <td>4059666.0</td>\n",
       "      <td>97.55283</td>\n",
       "      <td>NaN</td>\n",
       "      <td>NaN</td>\n",
       "      <td>NaN</td>\n",
       "      <td>0</td>\n",
       "    </tr>\n",
       "    <tr>\n",
       "      <th>2</th>\n",
       "      <td>2018-05-17 22:56:08.000000</td>\n",
       "      <td>27897360.0</td>\n",
       "      <td>19824230.0</td>\n",
       "      <td>125.6859</td>\n",
       "      <td>4059666.0</td>\n",
       "      <td>97.55283</td>\n",
       "      <td>NaN</td>\n",
       "      <td>NaN</td>\n",
       "      <td>NaN</td>\n",
       "      <td>0</td>\n",
       "    </tr>\n",
       "    <tr>\n",
       "      <th>3</th>\n",
       "      <td>2018-05-17 22:56:09.000000</td>\n",
       "      <td>27897430.0</td>\n",
       "      <td>19824230.0</td>\n",
       "      <td>125.6859</td>\n",
       "      <td>4059666.0</td>\n",
       "      <td>97.55282</td>\n",
       "      <td>NaN</td>\n",
       "      <td>NaN</td>\n",
       "      <td>NaN</td>\n",
       "      <td>0</td>\n",
       "    </tr>\n",
       "    <tr>\n",
       "      <th>4</th>\n",
       "      <td>2018-05-17 22:56:10.000000</td>\n",
       "      <td>27897500.0</td>\n",
       "      <td>19824230.0</td>\n",
       "      <td>125.6859</td>\n",
       "      <td>4059666.0</td>\n",
       "      <td>97.55282</td>\n",
       "      <td>NaN</td>\n",
       "      <td>NaN</td>\n",
       "      <td>NaN</td>\n",
       "      <td>0</td>\n",
       "    </tr>\n",
       "  </tbody>\n",
       "</table>\n",
       "</div>"
      ],
      "text/plain": [
       "                    timestamp       P-PDG       P-TPT     T-TPT  P-MON-CKP  \\\n",
       "0  2018-05-17 22:56:06.000000  27897490.0  19824230.0  125.6859  4059666.0   \n",
       "1  2018-05-17 22:56:07.000000  27897450.0  19824230.0  125.6859  4059666.0   \n",
       "2  2018-05-17 22:56:08.000000  27897360.0  19824230.0  125.6859  4059666.0   \n",
       "3  2018-05-17 22:56:09.000000  27897430.0  19824230.0  125.6859  4059666.0   \n",
       "4  2018-05-17 22:56:10.000000  27897500.0  19824230.0  125.6859  4059666.0   \n",
       "\n",
       "   T-JUS-CKP  P-JUS-CKGL  T-JUS-CKGL  QGL  class  \n",
       "0   97.55283         NaN         NaN  NaN      0  \n",
       "1   97.55283         NaN         NaN  NaN      0  \n",
       "2   97.55283         NaN         NaN  NaN      0  \n",
       "3   97.55282         NaN         NaN  NaN      0  \n",
       "4   97.55282         NaN         NaN  NaN      0  "
      ]
     },
     "execution_count": 2,
     "metadata": {},
     "output_type": "execute_result"
    }
   ],
   "source": [
    "train_df = pd.read_csv('data/train.csv')\n",
    "test_df = pd.read_csv('data/test.csv')\n",
    "\n",
    "print(train_df.shape, test_df.shape)\n",
    "train_df.head()"
   ]
  },
  {
   "cell_type": "markdown",
   "metadata": {},
   "source": [
    "## 1.2. Droping NaN columns"
   ]
  },
  {
   "cell_type": "code",
   "execution_count": 3,
   "metadata": {},
   "outputs": [
    {
     "name": "stdout",
     "output_type": "stream",
     "text": [
      "(26999, 7) (26999, 7)\n"
     ]
    },
    {
     "data": {
      "text/html": [
       "<div>\n",
       "<style scoped>\n",
       "    .dataframe tbody tr th:only-of-type {\n",
       "        vertical-align: middle;\n",
       "    }\n",
       "\n",
       "    .dataframe tbody tr th {\n",
       "        vertical-align: top;\n",
       "    }\n",
       "\n",
       "    .dataframe thead th {\n",
       "        text-align: right;\n",
       "    }\n",
       "</style>\n",
       "<table border=\"1\" class=\"dataframe\">\n",
       "  <thead>\n",
       "    <tr style=\"text-align: right;\">\n",
       "      <th></th>\n",
       "      <th>timestamp</th>\n",
       "      <th>P-PDG</th>\n",
       "      <th>P-TPT</th>\n",
       "      <th>T-TPT</th>\n",
       "      <th>P-MON-CKP</th>\n",
       "      <th>T-JUS-CKP</th>\n",
       "      <th>class</th>\n",
       "    </tr>\n",
       "  </thead>\n",
       "  <tbody>\n",
       "    <tr>\n",
       "      <th>0</th>\n",
       "      <td>2018-05-19 08:37:59.000000</td>\n",
       "      <td>29761980.0</td>\n",
       "      <td>21291990.0</td>\n",
       "      <td>126.0513</td>\n",
       "      <td>4067501.0</td>\n",
       "      <td>99.09749</td>\n",
       "      <td>0</td>\n",
       "    </tr>\n",
       "    <tr>\n",
       "      <th>1</th>\n",
       "      <td>2018-05-19 08:38:00.000000</td>\n",
       "      <td>29762120.0</td>\n",
       "      <td>21291990.0</td>\n",
       "      <td>126.0513</td>\n",
       "      <td>4067501.0</td>\n",
       "      <td>99.09749</td>\n",
       "      <td>0</td>\n",
       "    </tr>\n",
       "    <tr>\n",
       "      <th>2</th>\n",
       "      <td>2018-05-19 08:38:01.000000</td>\n",
       "      <td>29761980.0</td>\n",
       "      <td>21291990.0</td>\n",
       "      <td>126.0513</td>\n",
       "      <td>4067501.0</td>\n",
       "      <td>99.09749</td>\n",
       "      <td>0</td>\n",
       "    </tr>\n",
       "    <tr>\n",
       "      <th>3</th>\n",
       "      <td>2018-05-19 08:38:02.000000</td>\n",
       "      <td>29762120.0</td>\n",
       "      <td>21291990.0</td>\n",
       "      <td>126.0513</td>\n",
       "      <td>4067501.0</td>\n",
       "      <td>99.09749</td>\n",
       "      <td>0</td>\n",
       "    </tr>\n",
       "    <tr>\n",
       "      <th>4</th>\n",
       "      <td>2018-05-19 08:38:03.000000</td>\n",
       "      <td>29761980.0</td>\n",
       "      <td>21291990.0</td>\n",
       "      <td>126.0513</td>\n",
       "      <td>4067501.0</td>\n",
       "      <td>99.09749</td>\n",
       "      <td>0</td>\n",
       "    </tr>\n",
       "  </tbody>\n",
       "</table>\n",
       "</div>"
      ],
      "text/plain": [
       "                    timestamp       P-PDG       P-TPT     T-TPT  P-MON-CKP  \\\n",
       "0  2018-05-19 08:37:59.000000  29761980.0  21291990.0  126.0513  4067501.0   \n",
       "1  2018-05-19 08:38:00.000000  29762120.0  21291990.0  126.0513  4067501.0   \n",
       "2  2018-05-19 08:38:01.000000  29761980.0  21291990.0  126.0513  4067501.0   \n",
       "3  2018-05-19 08:38:02.000000  29762120.0  21291990.0  126.0513  4067501.0   \n",
       "4  2018-05-19 08:38:03.000000  29761980.0  21291990.0  126.0513  4067501.0   \n",
       "\n",
       "   T-JUS-CKP  class  \n",
       "0   99.09749      0  \n",
       "1   99.09749      0  \n",
       "2   99.09749      0  \n",
       "3   99.09749      0  \n",
       "4   99.09749      0  "
      ]
     },
     "execution_count": 3,
     "metadata": {},
     "output_type": "execute_result"
    }
   ],
   "source": [
    "train_df.dropna(axis=1, inplace=True)\n",
    "test_df.dropna(axis=1, inplace=True)\n",
    "print(train_df.shape, test_df.shape)\n",
    "test_df.head()"
   ]
  },
  {
   "cell_type": "markdown",
   "metadata": {},
   "source": [
    "## 1.3. Modifying the dataframe"
   ]
  },
  {
   "cell_type": "code",
   "execution_count": 4,
   "metadata": {},
   "outputs": [
    {
     "data": {
      "text/html": [
       "<div>\n",
       "<style scoped>\n",
       "    .dataframe tbody tr th:only-of-type {\n",
       "        vertical-align: middle;\n",
       "    }\n",
       "\n",
       "    .dataframe tbody tr th {\n",
       "        vertical-align: top;\n",
       "    }\n",
       "\n",
       "    .dataframe thead th {\n",
       "        text-align: right;\n",
       "    }\n",
       "</style>\n",
       "<table border=\"1\" class=\"dataframe\">\n",
       "  <thead>\n",
       "    <tr style=\"text-align: right;\">\n",
       "      <th></th>\n",
       "      <th>P-PDG</th>\n",
       "      <th>P-TPT</th>\n",
       "      <th>T-TPT</th>\n",
       "      <th>P-MON-CKP</th>\n",
       "      <th>T-JUS-CKP</th>\n",
       "      <th>class</th>\n",
       "    </tr>\n",
       "    <tr>\n",
       "      <th>timestamp</th>\n",
       "      <th></th>\n",
       "      <th></th>\n",
       "      <th></th>\n",
       "      <th></th>\n",
       "      <th></th>\n",
       "      <th></th>\n",
       "    </tr>\n",
       "  </thead>\n",
       "  <tbody>\n",
       "    <tr>\n",
       "      <th>2018-05-17 22:56:06</th>\n",
       "      <td>27897490.0</td>\n",
       "      <td>19824230.0</td>\n",
       "      <td>125.6859</td>\n",
       "      <td>4059666.0</td>\n",
       "      <td>97.55283</td>\n",
       "      <td>0</td>\n",
       "    </tr>\n",
       "    <tr>\n",
       "      <th>2018-05-17 22:56:07</th>\n",
       "      <td>27897450.0</td>\n",
       "      <td>19824230.0</td>\n",
       "      <td>125.6859</td>\n",
       "      <td>4059666.0</td>\n",
       "      <td>97.55283</td>\n",
       "      <td>0</td>\n",
       "    </tr>\n",
       "    <tr>\n",
       "      <th>2018-05-17 22:56:08</th>\n",
       "      <td>27897360.0</td>\n",
       "      <td>19824230.0</td>\n",
       "      <td>125.6859</td>\n",
       "      <td>4059666.0</td>\n",
       "      <td>97.55283</td>\n",
       "      <td>0</td>\n",
       "    </tr>\n",
       "    <tr>\n",
       "      <th>2018-05-17 22:56:09</th>\n",
       "      <td>27897430.0</td>\n",
       "      <td>19824230.0</td>\n",
       "      <td>125.6859</td>\n",
       "      <td>4059666.0</td>\n",
       "      <td>97.55282</td>\n",
       "      <td>0</td>\n",
       "    </tr>\n",
       "    <tr>\n",
       "      <th>2018-05-17 22:56:10</th>\n",
       "      <td>27897500.0</td>\n",
       "      <td>19824230.0</td>\n",
       "      <td>125.6859</td>\n",
       "      <td>4059666.0</td>\n",
       "      <td>97.55282</td>\n",
       "      <td>0</td>\n",
       "    </tr>\n",
       "  </tbody>\n",
       "</table>\n",
       "</div>"
      ],
      "text/plain": [
       "                          P-PDG       P-TPT     T-TPT  P-MON-CKP  T-JUS-CKP  \\\n",
       "timestamp                                                                     \n",
       "2018-05-17 22:56:06  27897490.0  19824230.0  125.6859  4059666.0   97.55283   \n",
       "2018-05-17 22:56:07  27897450.0  19824230.0  125.6859  4059666.0   97.55283   \n",
       "2018-05-17 22:56:08  27897360.0  19824230.0  125.6859  4059666.0   97.55283   \n",
       "2018-05-17 22:56:09  27897430.0  19824230.0  125.6859  4059666.0   97.55282   \n",
       "2018-05-17 22:56:10  27897500.0  19824230.0  125.6859  4059666.0   97.55282   \n",
       "\n",
       "                     class  \n",
       "timestamp                   \n",
       "2018-05-17 22:56:06      0  \n",
       "2018-05-17 22:56:07      0  \n",
       "2018-05-17 22:56:08      0  \n",
       "2018-05-17 22:56:09      0  \n",
       "2018-05-17 22:56:10      0  "
      ]
     },
     "execution_count": 4,
     "metadata": {},
     "output_type": "execute_result"
    }
   ],
   "source": [
    "train_df['timestamp'] = pd.to_datetime(train_df['timestamp'])\n",
    "train_df = train_df.set_index('timestamp')\n",
    "\n",
    "test_df['timestamp'] = pd.to_datetime(test_df['timestamp'])\n",
    "test_df = test_df.set_index('timestamp')\n",
    "\n",
    "train_df.head()"
   ]
  },
  {
   "cell_type": "markdown",
   "metadata": {},
   "source": [
    "## 1.4. Splitting the dataframe for X, y"
   ]
  },
  {
   "cell_type": "code",
   "execution_count": 5,
   "metadata": {},
   "outputs": [
    {
     "data": {
      "text/html": [
       "<div>\n",
       "<style scoped>\n",
       "    .dataframe tbody tr th:only-of-type {\n",
       "        vertical-align: middle;\n",
       "    }\n",
       "\n",
       "    .dataframe tbody tr th {\n",
       "        vertical-align: top;\n",
       "    }\n",
       "\n",
       "    .dataframe thead th {\n",
       "        text-align: right;\n",
       "    }\n",
       "</style>\n",
       "<table border=\"1\" class=\"dataframe\">\n",
       "  <thead>\n",
       "    <tr style=\"text-align: right;\">\n",
       "      <th></th>\n",
       "      <th>P-PDG</th>\n",
       "      <th>P-TPT</th>\n",
       "      <th>T-TPT</th>\n",
       "      <th>P-MON-CKP</th>\n",
       "      <th>T-JUS-CKP</th>\n",
       "    </tr>\n",
       "    <tr>\n",
       "      <th>timestamp</th>\n",
       "      <th></th>\n",
       "      <th></th>\n",
       "      <th></th>\n",
       "      <th></th>\n",
       "      <th></th>\n",
       "    </tr>\n",
       "  </thead>\n",
       "  <tbody>\n",
       "    <tr>\n",
       "      <th>2018-05-17 22:56:06</th>\n",
       "      <td>27897490.0</td>\n",
       "      <td>19824230.0</td>\n",
       "      <td>125.6859</td>\n",
       "      <td>4059666.0</td>\n",
       "      <td>97.55283</td>\n",
       "    </tr>\n",
       "    <tr>\n",
       "      <th>2018-05-17 22:56:07</th>\n",
       "      <td>27897450.0</td>\n",
       "      <td>19824230.0</td>\n",
       "      <td>125.6859</td>\n",
       "      <td>4059666.0</td>\n",
       "      <td>97.55283</td>\n",
       "    </tr>\n",
       "    <tr>\n",
       "      <th>2018-05-17 22:56:08</th>\n",
       "      <td>27897360.0</td>\n",
       "      <td>19824230.0</td>\n",
       "      <td>125.6859</td>\n",
       "      <td>4059666.0</td>\n",
       "      <td>97.55283</td>\n",
       "    </tr>\n",
       "    <tr>\n",
       "      <th>2018-05-17 22:56:09</th>\n",
       "      <td>27897430.0</td>\n",
       "      <td>19824230.0</td>\n",
       "      <td>125.6859</td>\n",
       "      <td>4059666.0</td>\n",
       "      <td>97.55282</td>\n",
       "    </tr>\n",
       "    <tr>\n",
       "      <th>2018-05-17 22:56:10</th>\n",
       "      <td>27897500.0</td>\n",
       "      <td>19824230.0</td>\n",
       "      <td>125.6859</td>\n",
       "      <td>4059666.0</td>\n",
       "      <td>97.55282</td>\n",
       "    </tr>\n",
       "  </tbody>\n",
       "</table>\n",
       "</div>"
      ],
      "text/plain": [
       "                          P-PDG       P-TPT     T-TPT  P-MON-CKP  T-JUS-CKP\n",
       "timestamp                                                                  \n",
       "2018-05-17 22:56:06  27897490.0  19824230.0  125.6859  4059666.0   97.55283\n",
       "2018-05-17 22:56:07  27897450.0  19824230.0  125.6859  4059666.0   97.55283\n",
       "2018-05-17 22:56:08  27897360.0  19824230.0  125.6859  4059666.0   97.55283\n",
       "2018-05-17 22:56:09  27897430.0  19824230.0  125.6859  4059666.0   97.55282\n",
       "2018-05-17 22:56:10  27897500.0  19824230.0  125.6859  4059666.0   97.55282"
      ]
     },
     "execution_count": 5,
     "metadata": {},
     "output_type": "execute_result"
    }
   ],
   "source": [
    "X_train_df = train_df[train_df.columns[:-1]]\n",
    "y_train_df = train_df[train_df.columns[-1]]\n",
    "\n",
    "X_test_df = test_df[test_df.columns[:-1]]\n",
    "y_test_df = test_df[test_df.columns[-1]]\n",
    "\n",
    "X_train_df.head()"
   ]
  },
  {
   "cell_type": "markdown",
   "metadata": {},
   "source": [
    "## 1.5. Standardization"
   ]
  },
  {
   "cell_type": "code",
   "execution_count": 6,
   "metadata": {},
   "outputs": [
    {
     "data": {
      "image/png": "[encoded data removed]",
      "text/plain": [
       "<Figure size 432x288 with 1 Axes>"
      ]
     },
     "metadata": {
      "needs_background": "light"
     },
     "output_type": "display_data"
    }
   ],
   "source": [
    "X_train_df.boxplot();"
   ]
  },
  {
   "cell_type": "code",
   "execution_count": 7,
   "metadata": {},
   "outputs": [
    {
     "data": {
      "image/png": "[encoded data removed]",
      "text/plain": [
       "<Figure size 432x288 with 1 Axes>"
      ]
     },
     "metadata": {
      "needs_background": "light"
     },
     "output_type": "display_data"
    }
   ],
   "source": [
    "X_test_df.boxplot();"
   ]
  },
  {
   "cell_type": "code",
   "execution_count": 8,
   "metadata": {},
   "outputs": [
    {
     "data": {
      "image/png": "[encoded data removed]",
      "text/plain": [
       "<Figure size 432x288 with 1 Axes>"
      ]
     },
     "metadata": {
      "needs_background": "light"
     },
     "output_type": "display_data"
    }
   ],
   "source": [
    "X_train_df = (X_train_df-X_train_df.mean()) / X_train_df.std()\n",
    "X_test_df = (X_test_df-X_test_df.mean()) / X_test_df.std()\n",
    "X_train_df.boxplot();"
   ]
  },
  {
   "cell_type": "code",
   "execution_count": 9,
   "metadata": {},
   "outputs": [
    {
     "data": {
      "image/png": "[encoded data removed]",
      "text/plain": [
       "<Figure size 432x288 with 1 Axes>"
      ]
     },
     "metadata": {
      "needs_background": "light"
     },
     "output_type": "display_data"
    }
   ],
   "source": [
    "X_test_df.boxplot();"
   ]
  },
  {
   "cell_type": "markdown",
   "metadata": {},
   "source": [
    "## 1.6. Regrouping the data for training/testing"
   ]
  },
  {
   "cell_type": "code",
   "execution_count": 10,
   "metadata": {},
   "outputs": [],
   "source": [
    "def regroup(X, y, n_timestamp):\n",
    "    X_regrouped = []\n",
    "    y_regrouped = []\n",
    "    \n",
    "    for i in range(len(y)-n_timestamp+1):\n",
    "        X_tmp = []\n",
    "        for j in range(n_timestamp):\n",
    "            X_tmp.append(X[i+j])\n",
    "        X_regrouped.append(X_tmp)\n",
    "        y_regrouped.append(y[i+n_timestamp-1])\n",
    "    \n",
    "    return np.array(X_regrouped), np.array(y_regrouped)"
   ]
  },
  {
   "cell_type": "code",
   "execution_count": 11,
   "metadata": {},
   "outputs": [
    {
     "name": "stdout",
     "output_type": "stream",
     "text": [
      "(26975, 25, 5) (26975,)\n",
      "(26975, 25, 5) (26975,)\n"
     ]
    }
   ],
   "source": [
    "X_train, y_train = regroup(X_train_df.values, y_train_df.values, n_timestamp=25)\n",
    "X_test, y_test = regroup(X_test_df.values, y_test_df.values, n_timestamp=25)\n",
    "\n",
    "print(X_train.shape, y_train.shape)\n",
    "print(X_test.shape, y_test.shape)"
   ]
  },
  {
   "cell_type": "code",
   "execution_count": 12,
   "metadata": {},
   "outputs": [
    {
     "name": "stdout",
     "output_type": "stream",
     "text": [
      "(17533, 25, 5) (17533,)\n",
      "(9442, 25, 5) (9442,)\n"
     ]
    }
   ],
   "source": [
    "X_train, X_valid, y_train, y_valid = train_test_split(X_train, y_train, test_size=0.35, stratify=y_train)\n",
    "\n",
    "print(X_train.shape, y_train.shape)\n",
    "print(X_valid.shape, y_valid.shape)"
   ]
  },
  {
   "cell_type": "markdown",
   "metadata": {},
   "source": [
    "## 1.7. One hot encoding the states"
   ]
  },
  {
   "cell_type": "code",
   "execution_count": 13,
   "metadata": {},
   "outputs": [],
   "source": [
    "encoder = OneHotEncoder()\n",
    "y_train = encoder.fit_transform([[y] for y in y_train]).toarray()\n",
    "y_valid = encoder.fit_transform([[y] for y in y_valid]).toarray()\n",
    "y_test = encoder.fit_transform([[y] for y in y_test]).toarray()"
   ]
  },
  {
   "cell_type": "markdown",
   "metadata": {},
   "source": [
    "---\n",
    "# 2. Building the model\n",
    "\n",
    "1. The CNN architecture contains a single 1D convolutional layer with 16 filters(size of 5) which is also an input layer with the shape of 25x5. There is a pooling layer(with the size of 2) after the convolution layer which helps to reduce the number of parameters. By adding the flatten layer we can connect the model output to the input of regular ANN. It has 2 dense layers and only 1 dropout layer(rate=5%). The first dense layer is for the input and the last one is for the final output of the model. That is why the last layer has 3 nodes(to represent one-hot encoded version of the system status). Overall, there are 3043 parameters all of which is trainable.\n",
    "\n",
    "2. The optimizer that I am using is 'adam' optimizer since it is considered as a more efficient version of stochastic gradient descent algorithm; it is adaptive gradient algorithm(to maintain per-parameter learning rate) and it also benefits from RMSProp(to be efficient against to the noisy problems). The stratified splitting has been used for the training and validation data sets to preserve the proportion of system states in the given data set. By preserving the proportions, the predictions may be more realistic."
   ]
  },
  {
   "cell_type": "code",
   "execution_count": 14,
   "metadata": {},
   "outputs": [
    {
     "name": "stdout",
     "output_type": "stream",
     "text": [
      "Model: \"sequential\"\n",
      "_________________________________________________________________\n",
      "Layer (type)                 Output Shape              Param #   \n",
      "=================================================================\n",
      "conv1d (Conv1D)              (None, 21, 16)            416       \n",
      "_________________________________________________________________\n",
      "max_pooling1d (MaxPooling1D) (None, 10, 16)            0         \n",
      "_________________________________________________________________\n",
      "flatten (Flatten)            (None, 160)               0         \n",
      "_________________________________________________________________\n",
      "dense (Dense)                (None, 16)                2576      \n",
      "_________________________________________________________________\n",
      "dropout (Dropout)            (None, 16)                0         \n",
      "_________________________________________________________________\n",
      "dense_1 (Dense)              (None, 3)                 51        \n",
      "=================================================================\n",
      "Total params: 3,043\n",
      "Trainable params: 3,043\n",
      "Non-trainable params: 0\n",
      "_________________________________________________________________\n"
     ]
    }
   ],
   "source": [
    "import tensorflow as tf\n",
    "from tensorflow.keras import datasets, layers, models\n",
    "from tensorflow.keras.models import Sequential\n",
    "\n",
    "model = Sequential()\n",
    "model.add(layers.Conv1D(16, 5, activation='relu', input_shape=(25, 5)))\n",
    "model.add(layers.MaxPooling1D(2))\n",
    "model.add(layers.Flatten())\n",
    "model.add(layers.Dense(16, activation='relu'))\n",
    "model.add(layers.Dropout(rate=0.05))\n",
    "model.add(layers.Dense(3, activation='softmax'))\n",
    "model.summary()"
   ]
  },
  {
   "cell_type": "code",
   "execution_count": 15,
   "metadata": {},
   "outputs": [
    {
     "name": "stdout",
     "output_type": "stream",
     "text": [
      "Epoch 1/50\n",
      "548/548 [==============================] - 1s 1ms/step - loss: 0.1969 - accuracy: 0.9076 - val_loss: 0.1267 - val_accuracy: 0.9177\n",
      "Epoch 2/50\n",
      "548/548 [==============================] - 0s 886us/step - loss: 0.1287 - accuracy: 0.9333 - val_loss: 0.1139 - val_accuracy: 0.9557\n",
      "Epoch 3/50\n",
      "548/548 [==============================] - 0s 876us/step - loss: 0.1237 - accuracy: 0.9381 - val_loss: 0.1073 - val_accuracy: 0.9456\n",
      "Epoch 4/50\n",
      "548/548 [==============================] - 0s 893us/step - loss: 0.1196 - accuracy: 0.9403 - val_loss: 0.1057 - val_accuracy: 0.9457\n",
      "Epoch 5/50\n",
      "548/548 [==============================] - 0s 886us/step - loss: 0.1193 - accuracy: 0.9401 - val_loss: 0.1211 - val_accuracy: 0.9349\n",
      "Epoch 6/50\n",
      "548/548 [==============================] - 1s 942us/step - loss: 0.1197 - accuracy: 0.9391 - val_loss: 0.1130 - val_accuracy: 0.9413\n",
      "Epoch 7/50\n",
      "548/548 [==============================] - 1s 955us/step - loss: 0.1157 - accuracy: 0.9417 - val_loss: 0.1024 - val_accuracy: 0.9662\n",
      "Epoch 8/50\n",
      "548/548 [==============================] - 1s 934us/step - loss: 0.1142 - accuracy: 0.9426 - val_loss: 0.0967 - val_accuracy: 0.9607\n",
      "Epoch 9/50\n",
      "548/548 [==============================] - 0s 896us/step - loss: 0.1144 - accuracy: 0.9436 - val_loss: 0.1176 - val_accuracy: 0.9205\n",
      "Epoch 10/50\n",
      "548/548 [==============================] - 0s 899us/step - loss: 0.1113 - accuracy: 0.9440 - val_loss: 0.0910 - val_accuracy: 0.9588\n",
      "Epoch 11/50\n",
      "548/548 [==============================] - 0s 887us/step - loss: 0.1043 - accuracy: 0.9513 - val_loss: 0.0928 - val_accuracy: 0.9557\n",
      "Epoch 12/50\n",
      "548/548 [==============================] - 0s 896us/step - loss: 0.1116 - accuracy: 0.9425 - val_loss: 0.1002 - val_accuracy: 0.9498\n",
      "Epoch 13/50\n",
      "548/548 [==============================] - 0s 895us/step - loss: 0.1067 - accuracy: 0.9497 - val_loss: 0.1186 - val_accuracy: 0.9385\n",
      "Epoch 14/50\n",
      "548/548 [==============================] - 0s 891us/step - loss: 0.1115 - accuracy: 0.9415 - val_loss: 0.1012 - val_accuracy: 0.9465\n"
     ]
    }
   ],
   "source": [
    "model.compile(optimizer='adam',\n",
    "              loss='categorical_crossentropy',\n",
    "              metrics=['accuracy'])\n",
    "\n",
    "callback = tf.keras.callbacks.EarlyStopping(monitor='loss', patience=3)\n",
    "\n",
    "history = model.fit(X_train, y_train, epochs=50, callbacks=[callback], \n",
    "                    validation_data=(X_valid, y_valid))"
   ]
  },
  {
   "cell_type": "markdown",
   "metadata": {},
   "source": [
    "In the training process, the training accuracy slightly increases with slight fluctuations as well as the validation accuracy. However, there is no (relatively) big changes in both accuracies and losses; both accuracies are about 94-95% and both losses are about 0.1."
   ]
  },
  {
   "cell_type": "markdown",
   "metadata": {},
   "source": [
    "## 2.1. Training & testing the model"
   ]
  },
  {
   "cell_type": "code",
   "execution_count": 16,
   "metadata": {},
   "outputs": [],
   "source": [
    "X_test_shuffled, y_test_shuffled = shuffle(X_test, y_test)\n",
    "X_test_1000, y_test_1000 = X_test_shuffled[:1000], y_test_shuffled[:1000]\n",
    "\n",
    "y_pred_1000 = model.predict(X_test_1000)\n",
    "y_pred = model.predict(X_test)\n",
    "confusion_mtx = sklearn.metrics.confusion_matrix(y_test_1000.argmax(axis=1), y_pred_1000.argmax(axis=1))"
   ]
  },
  {
   "cell_type": "code",
   "execution_count": 17,
   "metadata": {},
   "outputs": [
    {
     "data": {
      "image/png": "[encoded data removed]",
      "text/plain": [
       "<Figure size 864x432 with 2 Axes>"
      ]
     },
     "metadata": {
      "needs_background": "light"
     },
     "output_type": "display_data"
    }
   ],
   "source": [
    "fig, axs = plt.subplots(1,2,figsize=(12,6))\n",
    "axs[0].set_title('Loss')\n",
    "axs[1].set_title('Accuracy')\n",
    "axs[0].set_ylim((0, 1))\n",
    "axs[1].set_ylim((0, 1))\n",
    "\n",
    "axs[0].plot(history.history['loss'], '.-');\n",
    "axs[0].plot(history.history['val_loss'], '.-');\n",
    "\n",
    "axs[1].plot(history.history['accuracy'], '.-');\n",
    "axs[1].plot(history.history['val_accuracy'], '.-');\n",
    "\n",
    "axs[0].legend(['train', 'validation'], loc='upper left');\n",
    "axs[1].legend(['train', 'validation'], loc='lower left');"
   ]
  },
  {
   "cell_type": "code",
   "execution_count": 18,
   "metadata": {},
   "outputs": [
    {
     "data": {
      "text/plain": [
       "Text(69.0, 0.5, 'Label')"
      ]
     },
     "execution_count": 18,
     "metadata": {},
     "output_type": "execute_result"
    },
    {
     "data": {
      "image/png": "[encoded data removed]",
      "text/plain": [
       "<Figure size 720x576 with 2 Axes>"
      ]
     },
     "metadata": {
      "needs_background": "light"
     },
     "output_type": "display_data"
    }
   ],
   "source": [
    "plt.figure(figsize=(10,8))\n",
    "labels = ['Normal', 'Transient', 'Abnormal']\n",
    "sb.heatmap(confusion_mtx,\n",
    "           xticklabels=labels,\n",
    "           yticklabels=labels,\n",
    "           annot=True,\n",
    "           fmt='g')\n",
    "plt.xlabel('Prediction')\n",
    "plt.ylabel('Label')"
   ]
  },
  {
   "cell_type": "markdown",
   "metadata": {},
   "source": [
    "Most of the time, the model has a tendency to misclassify the system state when it is running normally; it mostly classifies it as an abnormal state(not even transient for some reason). In the other hand, the model rarely missclassfies the system state when it is running abnormally; it predicts that the system runs normally(not even transient, again). So, the model cannot distinguish the normal and abnnormal states quite well; however, it predicts the abnormal state way better than the normal state."
   ]
  }
 ],
 "metadata": {
  "kernelspec": {
   "display_name": "Python 3",
   "language": "python",
   "name": "python3"
  },
  "language_info": {
   "codemirror_mode": {
    "name": "ipython",
    "version": 3
   },
   "file_extension": ".py",
   "mimetype": "text/x-python",
   "name": "python",
   "nbconvert_exporter": "python",
   "pygments_lexer": "ipython3",
   "version": "3.8.3"
  }
 },
 "nbformat": 4,
 "nbformat_minor": 4
}
