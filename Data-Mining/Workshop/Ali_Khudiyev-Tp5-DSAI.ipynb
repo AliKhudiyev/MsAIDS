{
 "cells": [
  {
   "cell_type": "markdown",
   "metadata": {},
   "source": [
    "# TP5 - Sequential Pattern Mining\n"
   ]
  },
  {
   "cell_type": "markdown",
   "metadata": {
    "pycharm": {
     "name": "#%%\n"
    }
   },
   "source": [
    "In this practical work, you are given a dataset of customers shopping baskets. Each bsket contains different products. Eachh customer may have one or more baskets. The first objective is to prepare the dataset that contains for each customer the total baskets of products purchased by him as sequences of events. Then compute the frequent patterns in these sequences.\n",
    "\n",
    "The dataset format\n",
    "- An event is a list of strings.\n",
    "- A sequence is a list of events.\n",
    "- A dataset is a list of sequences.\n",
    "Thus, a dataset is a list of lists of lists of strings.\n",
    "\n",
    "E.g.\n",
    "\n",
    "dataset =  [\n",
    "  \n",
    "  [[\"a\"], [\"a\", \"b\", \"c\"], [\"a\", \"c\"], [\"c\"]],\n",
    "  \n",
    "  [[\"a\"], [\"c\"], [\"b\", \"c\"]],\n",
    "  \n",
    "  [[\"a\", \"b\"], [\"d\"], [\"c\"], [\"b\"], [\"c\"]],\n",
    "  \n",
    "  [[\"a\"], [\"c\"], [\"b\"], [\"c\"]] ]"
   ]
  },
  {
   "cell_type": "markdown",
   "metadata": {
    "pycharm": {
     "name": "#%% md\n"
    }
   },
   "source": [
    "**Step1** Loading the dataset: df.csv. Apply `index_col=0` to state the first column as the index."
   ]
  },
  {
   "cell_type": "code",
   "execution_count": 1,
   "metadata": {
    "pycharm": {
     "name": "#%%\n"
    }
   },
   "outputs": [],
   "source": [
    "import pandas as pd"
   ]
  },
  {
   "cell_type": "code",
   "execution_count": 14,
   "metadata": {},
   "outputs": [
    {
     "output_type": "execute_result",
     "data": {
      "text/plain": [
       "  BasketID           BasketDate  Sale  CustomerID CustomerCountry  ProdID  \\\n",
       "0   536365  2010-01-12 08:26:00  2.55     17850.0  United Kingdom  85123A   \n",
       "1   536365  2010-01-12 08:26:00  3.39     17850.0  United Kingdom   71053   \n",
       "2   536365  2010-01-12 08:26:00  2.75     17850.0  United Kingdom  84406B   \n",
       "3   536365  2010-01-12 08:26:00  3.39     17850.0  United Kingdom  84029G   \n",
       "4   536365  2010-01-12 08:26:00  3.39     17850.0  United Kingdom  84029E   \n",
       "\n",
       "                             ProdDescr  Qta  Sale_per_Qta  \n",
       "0   WHITE HANGING HEART T-LIGHT HOLDER    6         15.30  \n",
       "1                  WHITE METAL LANTERN    6         20.34  \n",
       "2       CREAM CUPID HEARTS COAT HANGER    8         22.00  \n",
       "3  KNITTED UNION FLAG HOT WATER BOTTLE    6         20.34  \n",
       "4       RED WOOLLY HOTTIE WHITE HEART.    6         20.34  "
      ],
      "text/html": "<div>\n<style scoped>\n    .dataframe tbody tr th:only-of-type {\n        vertical-align: middle;\n    }\n\n    .dataframe tbody tr th {\n        vertical-align: top;\n    }\n\n    .dataframe thead th {\n        text-align: right;\n    }\n</style>\n<table border=\"1\" class=\"dataframe\">\n  <thead>\n    <tr style=\"text-align: right;\">\n      <th></th>\n      <th>BasketID</th>\n      <th>BasketDate</th>\n      <th>Sale</th>\n      <th>CustomerID</th>\n      <th>CustomerCountry</th>\n      <th>ProdID</th>\n      <th>ProdDescr</th>\n      <th>Qta</th>\n      <th>Sale_per_Qta</th>\n    </tr>\n  </thead>\n  <tbody>\n    <tr>\n      <th>0</th>\n      <td>536365</td>\n      <td>2010-01-12 08:26:00</td>\n      <td>2.55</td>\n      <td>17850.0</td>\n      <td>United Kingdom</td>\n      <td>85123A</td>\n      <td>WHITE HANGING HEART T-LIGHT HOLDER</td>\n      <td>6</td>\n      <td>15.30</td>\n    </tr>\n    <tr>\n      <th>1</th>\n      <td>536365</td>\n      <td>2010-01-12 08:26:00</td>\n      <td>3.39</td>\n      <td>17850.0</td>\n      <td>United Kingdom</td>\n      <td>71053</td>\n      <td>WHITE METAL LANTERN</td>\n      <td>6</td>\n      <td>20.34</td>\n    </tr>\n    <tr>\n      <th>2</th>\n      <td>536365</td>\n      <td>2010-01-12 08:26:00</td>\n      <td>2.75</td>\n      <td>17850.0</td>\n      <td>United Kingdom</td>\n      <td>84406B</td>\n      <td>CREAM CUPID HEARTS COAT HANGER</td>\n      <td>8</td>\n      <td>22.00</td>\n    </tr>\n    <tr>\n      <th>3</th>\n      <td>536365</td>\n      <td>2010-01-12 08:26:00</td>\n      <td>3.39</td>\n      <td>17850.0</td>\n      <td>United Kingdom</td>\n      <td>84029G</td>\n      <td>KNITTED UNION FLAG HOT WATER BOTTLE</td>\n      <td>6</td>\n      <td>20.34</td>\n    </tr>\n    <tr>\n      <th>4</th>\n      <td>536365</td>\n      <td>2010-01-12 08:26:00</td>\n      <td>3.39</td>\n      <td>17850.0</td>\n      <td>United Kingdom</td>\n      <td>84029E</td>\n      <td>RED WOOLLY HOTTIE WHITE HEART.</td>\n      <td>6</td>\n      <td>20.34</td>\n    </tr>\n  </tbody>\n</table>\n</div>"
     },
     "metadata": {},
     "execution_count": 14
    }
   ],
   "source": [
    "df = pd.read_csv('dataset/df.csv', index_col=0)\n",
    "df.head()"
   ]
  },
  {
   "cell_type": "markdown",
   "metadata": {},
   "source": [
    "## Modelling sequences :\n",
    "\n",
    "Slighty modify the shape of the dataframe to fit the requirements for using it as an input of the apriori function.\n",
    "\n",
    "**Step2** First we model each customer as a sequence of baskets. Group by for each customer (`CustomerID`) the associated unique baskets (`BasketID`). Apply `list` to every group."
   ]
  },
  {
   "cell_type": "code",
   "execution_count": 70,
   "metadata": {},
   "outputs": [
    {
     "output_type": "execute_result",
     "data": {
      "text/plain": [
       "CustomerID  BasketID\n",
       "12347.0     537626      [BasketID, BasketDate, Sale, CustomerID, Custo...\n",
       "            542237      [BasketID, BasketDate, Sale, CustomerID, Custo...\n",
       "            549222      [BasketID, BasketDate, Sale, CustomerID, Custo...\n",
       "            556201      [BasketID, BasketDate, Sale, CustomerID, Custo...\n",
       "            562032      [BasketID, BasketDate, Sale, CustomerID, Custo...\n",
       "                                              ...                        \n",
       "18288.0     553148      [BasketID, BasketDate, Sale, CustomerID, Custo...\n",
       "            557675      [BasketID, BasketDate, Sale, CustomerID, Custo...\n",
       "            564087      [BasketID, BasketDate, Sale, CustomerID, Custo...\n",
       "            571652      [BasketID, BasketDate, Sale, CustomerID, Custo...\n",
       "            573154      [BasketID, BasketDate, Sale, CustomerID, Custo...\n",
       "Length: 18867, dtype: object"
      ]
     },
     "metadata": {},
     "execution_count": 70
    }
   ],
   "source": [
    "basket = df.groupby(['CustomerID', 'BasketID']).apply(list)\n",
    "basket"
   ]
  },
  {
   "cell_type": "code",
   "execution_count": 114,
   "metadata": {},
   "outputs": [
    {
     "output_type": "execute_result",
     "data": {
      "text/plain": [
       "CustomerID  BasketID\n",
       "12347.0     537626      True\n",
       "            542237      True\n",
       "            549222      True\n",
       "            556201      True\n",
       "            562032      True\n",
       "                        ... \n",
       "18288.0     553148      True\n",
       "            557675      True\n",
       "            564087      True\n",
       "            571652      True\n",
       "            573154      True\n",
       "Length: 18867, dtype: bool"
      ]
     },
     "metadata": {},
     "execution_count": 114
    }
   ],
   "source": [
    "basket.apply(len)>1"
   ]
  },
  {
   "cell_type": "markdown",
   "metadata": {},
   "source": [
    "**Step3** Next, drop the customers having performed only one shopping session (.apply(len)==1)."
   ]
  },
  {
   "cell_type": "code",
   "execution_count": 110,
   "metadata": {
    "tags": []
   },
   "outputs": [
    {
     "output_type": "execute_result",
     "data": {
      "text/plain": [
       "CustomerID  BasketID\n",
       "12347.0     537626      [BasketDate, BasketID, CustomerCountry, Custom...\n",
       "            542237      [BasketDate, BasketID, CustomerCountry, Custom...\n",
       "            549222      [BasketDate, BasketID, CustomerCountry, Custom...\n",
       "            556201      [BasketDate, BasketID, CustomerCountry, Custom...\n",
       "            562032      [BasketDate, BasketID, CustomerCountry, Custom...\n",
       "                                              ...                        \n",
       "18288.0     553148      [BasketDate, BasketID, CustomerCountry, Custom...\n",
       "            557675      [BasketDate, BasketID, CustomerCountry, Custom...\n",
       "            564087      [BasketDate, BasketID, CustomerCountry, Custom...\n",
       "            571652      [BasketDate, BasketID, CustomerCountry, Custom...\n",
       "            573154      [BasketDate, BasketID, CustomerCountry, Custom...\n",
       "Length: 18867, dtype: object"
      ]
     },
     "metadata": {},
     "execution_count": 110
    }
   ],
   "source": [
    "import numpy as np\n",
    "basket.apply(np.unique)"
   ]
  },
  {
   "cell_type": "code",
   "execution_count": null,
   "metadata": {},
   "outputs": [],
   "source": []
  },
  {
   "cell_type": "markdown",
   "metadata": {},
   "source": [
    "**Step4** Now compute a dataframe where each row presents a basket ID and the products bought during said transaction. Consider the `CustomerID` which are in `baskets`. Apply the `unique()` and `apply(list)` functions."
   ]
  },
  {
   "cell_type": "code",
   "execution_count": 109,
   "metadata": {},
   "outputs": [
    {
     "output_type": "execute_result",
     "data": {
      "text/plain": [
       "CustomerID  BasketID\n",
       "12347.0     537626      [BasketDate, BasketID, CustomerCountry, Custom...\n",
       "            542237      [BasketDate, BasketID, CustomerCountry, Custom...\n",
       "            549222      [BasketDate, BasketID, CustomerCountry, Custom...\n",
       "            556201      [BasketDate, BasketID, CustomerCountry, Custom...\n",
       "            562032      [BasketDate, BasketID, CustomerCountry, Custom...\n",
       "                                              ...                        \n",
       "18288.0     553148      [BasketDate, BasketID, CustomerCountry, Custom...\n",
       "            557675      [BasketDate, BasketID, CustomerCountry, Custom...\n",
       "            564087      [BasketDate, BasketID, CustomerCountry, Custom...\n",
       "            571652      [BasketDate, BasketID, CustomerCountry, Custom...\n",
       "            573154      [BasketDate, BasketID, CustomerCountry, Custom...\n",
       "Length: 18867, dtype: object"
      ]
     },
     "metadata": {},
     "execution_count": 109
    }
   ],
   "source": [
    "basket.apply(np.unique).apply(list)"
   ]
  },
  {
   "cell_type": "markdown",
   "metadata": {},
   "source": [
    "**Step5** Now combine the two dataframe in order to compute a list of each product bought by each customer during each of his sessions. Consider two columns ['CustomerID', 'basket_list']. Set the column `CustomerID` as index."
   ]
  },
  {
   "cell_type": "code",
   "execution_count": 111,
   "metadata": {},
   "outputs": [
    {
     "output_type": "execute_result",
     "data": {
      "text/plain": [
       "           BasketID                                                  0\n",
       "CustomerID                                                            \n",
       "12347.0      537626  [BasketID, BasketDate, Sale, CustomerID, Custo...\n",
       "12347.0      542237  [BasketID, BasketDate, Sale, CustomerID, Custo...\n",
       "12347.0      549222  [BasketID, BasketDate, Sale, CustomerID, Custo...\n",
       "12347.0      556201  [BasketID, BasketDate, Sale, CustomerID, Custo...\n",
       "12347.0      562032  [BasketID, BasketDate, Sale, CustomerID, Custo...\n",
       "...             ...                                                ...\n",
       "18288.0      553148  [BasketID, BasketDate, Sale, CustomerID, Custo...\n",
       "18288.0      557675  [BasketID, BasketDate, Sale, CustomerID, Custo...\n",
       "18288.0      564087  [BasketID, BasketDate, Sale, CustomerID, Custo...\n",
       "18288.0      571652  [BasketID, BasketDate, Sale, CustomerID, Custo...\n",
       "18288.0      573154  [BasketID, BasketDate, Sale, CustomerID, Custo...\n",
       "\n",
       "[18867 rows x 2 columns]"
      ],
      "text/html": "<div>\n<style scoped>\n    .dataframe tbody tr th:only-of-type {\n        vertical-align: middle;\n    }\n\n    .dataframe tbody tr th {\n        vertical-align: top;\n    }\n\n    .dataframe thead th {\n        text-align: right;\n    }\n</style>\n<table border=\"1\" class=\"dataframe\">\n  <thead>\n    <tr style=\"text-align: right;\">\n      <th></th>\n      <th>BasketID</th>\n      <th>0</th>\n    </tr>\n    <tr>\n      <th>CustomerID</th>\n      <th></th>\n      <th></th>\n    </tr>\n  </thead>\n  <tbody>\n    <tr>\n      <th>12347.0</th>\n      <td>537626</td>\n      <td>[BasketID, BasketDate, Sale, CustomerID, Custo...</td>\n    </tr>\n    <tr>\n      <th>12347.0</th>\n      <td>542237</td>\n      <td>[BasketID, BasketDate, Sale, CustomerID, Custo...</td>\n    </tr>\n    <tr>\n      <th>12347.0</th>\n      <td>549222</td>\n      <td>[BasketID, BasketDate, Sale, CustomerID, Custo...</td>\n    </tr>\n    <tr>\n      <th>12347.0</th>\n      <td>556201</td>\n      <td>[BasketID, BasketDate, Sale, CustomerID, Custo...</td>\n    </tr>\n    <tr>\n      <th>12347.0</th>\n      <td>562032</td>\n      <td>[BasketID, BasketDate, Sale, CustomerID, Custo...</td>\n    </tr>\n    <tr>\n      <th>...</th>\n      <td>...</td>\n      <td>...</td>\n    </tr>\n    <tr>\n      <th>18288.0</th>\n      <td>553148</td>\n      <td>[BasketID, BasketDate, Sale, CustomerID, Custo...</td>\n    </tr>\n    <tr>\n      <th>18288.0</th>\n      <td>557675</td>\n      <td>[BasketID, BasketDate, Sale, CustomerID, Custo...</td>\n    </tr>\n    <tr>\n      <th>18288.0</th>\n      <td>564087</td>\n      <td>[BasketID, BasketDate, Sale, CustomerID, Custo...</td>\n    </tr>\n    <tr>\n      <th>18288.0</th>\n      <td>571652</td>\n      <td>[BasketID, BasketDate, Sale, CustomerID, Custo...</td>\n    </tr>\n    <tr>\n      <th>18288.0</th>\n      <td>573154</td>\n      <td>[BasketID, BasketDate, Sale, CustomerID, Custo...</td>\n    </tr>\n  </tbody>\n</table>\n<p>18867 rows × 2 columns</p>\n</div>"
     },
     "metadata": {},
     "execution_count": 111
    }
   ],
   "source": [
    "basket.reset_index().set_index('CustomerID')"
   ]
  },
  {
   "cell_type": "code",
   "execution_count": 112,
   "metadata": {},
   "outputs": [],
   "source": [
    "df2 = basket"
   ]
  },
  {
   "cell_type": "markdown",
   "metadata": {},
   "source": [
    "**Step6** Print out the resulting dataframe (df2)."
   ]
  },
  {
   "cell_type": "code",
   "execution_count": 113,
   "metadata": {},
   "outputs": [
    {
     "output_type": "execute_result",
     "data": {
      "text/plain": [
       "CustomerID  BasketID\n",
       "12347.0     537626      [BasketID, BasketDate, Sale, CustomerID, Custo...\n",
       "            542237      [BasketID, BasketDate, Sale, CustomerID, Custo...\n",
       "            549222      [BasketID, BasketDate, Sale, CustomerID, Custo...\n",
       "            556201      [BasketID, BasketDate, Sale, CustomerID, Custo...\n",
       "            562032      [BasketID, BasketDate, Sale, CustomerID, Custo...\n",
       "                                              ...                        \n",
       "18288.0     553148      [BasketID, BasketDate, Sale, CustomerID, Custo...\n",
       "            557675      [BasketID, BasketDate, Sale, CustomerID, Custo...\n",
       "            564087      [BasketID, BasketDate, Sale, CustomerID, Custo...\n",
       "            571652      [BasketID, BasketDate, Sale, CustomerID, Custo...\n",
       "            573154      [BasketID, BasketDate, Sale, CustomerID, Custo...\n",
       "Length: 18867, dtype: object"
      ]
     },
     "metadata": {},
     "execution_count": 113
    }
   ],
   "source": [
    "df2"
   ]
  },
  {
   "cell_type": "markdown",
   "metadata": {},
   "source": [
    "**Step7** Now the shape of the dataframe is restructured to fit the requirements for using it as an input of the apriori function. Define a list named `dataset` that appends the rows of the dataframe (the sequences)."
   ]
  },
  {
   "cell_type": "code",
   "execution_count": null,
   "metadata": {},
   "outputs": [],
   "source": []
  },
  {
   "cell_type": "markdown",
   "metadata": {},
   "source": [
    "**Step8** Count the total number of sequences and events contained within the dataset (a sequence is composed of multiple events; an event is a list of strings)."
   ]
  },
  {
   "cell_type": "code",
   "execution_count": null,
   "metadata": {},
   "outputs": [],
   "source": []
  },
  {
   "cell_type": "code",
   "execution_count": 28,
   "metadata": {},
   "outputs": [],
   "source": []
  },
  {
   "cell_type": "markdown",
   "metadata": {},
   "source": [
    "## Frequent Patterns Computation:\n",
    "\n",
    "**Step9** Compute the frequent patterns with minimum support equal to the 5%, 10% and 15% of the dataset. A `apriori` algorithm is needed for the computation; `apriori` computes the frequent sequences in a sequence dataset for a given min support (Generalized Sequential Pattern Mining Approach). \n",
    "\n",
    "Args:\n",
    "   - dataset: A list of sequences, for which the frequent (sub-)sequences are computed\n",
    "   - minSupport: The minimum support that makes a sequence frequent\n",
    "   \n",
    "Returns: list of tuples (s, c), where s is a frequent sequence, and c is the count for that sequence"
   ]
  },
  {
   "cell_type": "code",
   "execution_count": null,
   "metadata": {},
   "outputs": [],
   "source": []
  },
  {
   "cell_type": "code",
   "execution_count": null,
   "metadata": {},
   "outputs": [],
   "source": []
  },
  {
   "cell_type": "markdown",
   "metadata": {},
   "source": [
    "**Step10** Print how many patterns have been identified for each percentage of support."
   ]
  },
  {
   "cell_type": "code",
   "execution_count": null,
   "metadata": {},
   "outputs": [],
   "source": []
  },
  {
   "cell_type": "code",
   "execution_count": null,
   "metadata": {},
   "outputs": [],
   "source": []
  }
 ],
 "metadata": {
  "kernelspec": {
   "name": "python383jvsc74a57bd0e134e05457d34029b6460cd73bbf1ed73f339b5b6d98c95be70b69eba114fe95",
   "display_name": "Python 3.8.3 64-bit ('base': conda)"
  },
  "language_info": {
   "codemirror_mode": {
    "name": "ipython",
    "version": 3
   },
   "file_extension": ".py",
   "mimetype": "text/x-python",
   "name": "python",
   "nbconvert_exporter": "python",
   "pygments_lexer": "ipython3",
   "version": "3.8.3-final"
  }
 },
 "nbformat": 4,
 "nbformat_minor": 4
}